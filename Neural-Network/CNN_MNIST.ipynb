{
 "cells": [
  {
   "cell_type": "markdown",
   "id": "43791773",
   "metadata": {},
   "source": [
    "<div style=\"background-color: #00008B; padding: 20px;\">\n",
    "    <h1 style=\"font-size: 100px; color: #ffffff;\">Convolutional Neural Network Layers</h1>\n",
    "</div>"
   ]
  },
  {
   "cell_type": "code",
   "execution_count": 19,
   "id": "ff917bc9",
   "metadata": {},
   "outputs": [],
   "source": [
    "import numpy as np\n",
    "import pandas as pd\n",
    "import matplotlib.pyplot as plt"
   ]
  },
  {
   "cell_type": "code",
   "execution_count": 20,
   "id": "445ac632",
   "metadata": {},
   "outputs": [],
   "source": [
    "import torch\n",
    "import torch.nn as nn\n",
    "import torch.nn.functional as F\n",
    "from torch.utils.data import DataLoader\n",
    "from torchvision import datasets , transforms"
   ]
  },
  {
   "cell_type": "markdown",
   "id": "a33dd32f",
   "metadata": {},
   "source": [
    "https://www.kaggle.com/datasets/oddrationale/mnist-in-csv?resource=download"
   ]
  },
  {
   "cell_type": "code",
   "execution_count": 39,
   "id": "71b51d8e",
   "metadata": {},
   "outputs": [
    {
     "data": {
      "text/html": [
       "<div>\n",
       "<style scoped>\n",
       "    .dataframe tbody tr th:only-of-type {\n",
       "        vertical-align: middle;\n",
       "    }\n",
       "\n",
       "    .dataframe tbody tr th {\n",
       "        vertical-align: top;\n",
       "    }\n",
       "\n",
       "    .dataframe thead th {\n",
       "        text-align: right;\n",
       "    }\n",
       "</style>\n",
       "<table border=\"1\" class=\"dataframe\">\n",
       "  <thead>\n",
       "    <tr style=\"text-align: right;\">\n",
       "      <th></th>\n",
       "      <th>label</th>\n",
       "      <th>1x1</th>\n",
       "      <th>1x2</th>\n",
       "      <th>1x3</th>\n",
       "      <th>1x4</th>\n",
       "      <th>1x5</th>\n",
       "      <th>1x6</th>\n",
       "      <th>1x7</th>\n",
       "      <th>1x8</th>\n",
       "      <th>1x9</th>\n",
       "      <th>...</th>\n",
       "      <th>28x19</th>\n",
       "      <th>28x20</th>\n",
       "      <th>28x21</th>\n",
       "      <th>28x22</th>\n",
       "      <th>28x23</th>\n",
       "      <th>28x24</th>\n",
       "      <th>28x25</th>\n",
       "      <th>28x26</th>\n",
       "      <th>28x27</th>\n",
       "      <th>28x28</th>\n",
       "    </tr>\n",
       "  </thead>\n",
       "  <tbody>\n",
       "    <tr>\n",
       "      <th>0</th>\n",
       "      <td>5</td>\n",
       "      <td>0</td>\n",
       "      <td>0</td>\n",
       "      <td>0</td>\n",
       "      <td>0</td>\n",
       "      <td>0</td>\n",
       "      <td>0</td>\n",
       "      <td>0</td>\n",
       "      <td>0</td>\n",
       "      <td>0</td>\n",
       "      <td>...</td>\n",
       "      <td>0</td>\n",
       "      <td>0</td>\n",
       "      <td>0</td>\n",
       "      <td>0</td>\n",
       "      <td>0</td>\n",
       "      <td>0</td>\n",
       "      <td>0</td>\n",
       "      <td>0</td>\n",
       "      <td>0</td>\n",
       "      <td>0</td>\n",
       "    </tr>\n",
       "    <tr>\n",
       "      <th>1</th>\n",
       "      <td>0</td>\n",
       "      <td>0</td>\n",
       "      <td>0</td>\n",
       "      <td>0</td>\n",
       "      <td>0</td>\n",
       "      <td>0</td>\n",
       "      <td>0</td>\n",
       "      <td>0</td>\n",
       "      <td>0</td>\n",
       "      <td>0</td>\n",
       "      <td>...</td>\n",
       "      <td>0</td>\n",
       "      <td>0</td>\n",
       "      <td>0</td>\n",
       "      <td>0</td>\n",
       "      <td>0</td>\n",
       "      <td>0</td>\n",
       "      <td>0</td>\n",
       "      <td>0</td>\n",
       "      <td>0</td>\n",
       "      <td>0</td>\n",
       "    </tr>\n",
       "    <tr>\n",
       "      <th>2</th>\n",
       "      <td>4</td>\n",
       "      <td>0</td>\n",
       "      <td>0</td>\n",
       "      <td>0</td>\n",
       "      <td>0</td>\n",
       "      <td>0</td>\n",
       "      <td>0</td>\n",
       "      <td>0</td>\n",
       "      <td>0</td>\n",
       "      <td>0</td>\n",
       "      <td>...</td>\n",
       "      <td>0</td>\n",
       "      <td>0</td>\n",
       "      <td>0</td>\n",
       "      <td>0</td>\n",
       "      <td>0</td>\n",
       "      <td>0</td>\n",
       "      <td>0</td>\n",
       "      <td>0</td>\n",
       "      <td>0</td>\n",
       "      <td>0</td>\n",
       "    </tr>\n",
       "    <tr>\n",
       "      <th>3</th>\n",
       "      <td>1</td>\n",
       "      <td>0</td>\n",
       "      <td>0</td>\n",
       "      <td>0</td>\n",
       "      <td>0</td>\n",
       "      <td>0</td>\n",
       "      <td>0</td>\n",
       "      <td>0</td>\n",
       "      <td>0</td>\n",
       "      <td>0</td>\n",
       "      <td>...</td>\n",
       "      <td>0</td>\n",
       "      <td>0</td>\n",
       "      <td>0</td>\n",
       "      <td>0</td>\n",
       "      <td>0</td>\n",
       "      <td>0</td>\n",
       "      <td>0</td>\n",
       "      <td>0</td>\n",
       "      <td>0</td>\n",
       "      <td>0</td>\n",
       "    </tr>\n",
       "    <tr>\n",
       "      <th>4</th>\n",
       "      <td>9</td>\n",
       "      <td>0</td>\n",
       "      <td>0</td>\n",
       "      <td>0</td>\n",
       "      <td>0</td>\n",
       "      <td>0</td>\n",
       "      <td>0</td>\n",
       "      <td>0</td>\n",
       "      <td>0</td>\n",
       "      <td>0</td>\n",
       "      <td>...</td>\n",
       "      <td>0</td>\n",
       "      <td>0</td>\n",
       "      <td>0</td>\n",
       "      <td>0</td>\n",
       "      <td>0</td>\n",
       "      <td>0</td>\n",
       "      <td>0</td>\n",
       "      <td>0</td>\n",
       "      <td>0</td>\n",
       "      <td>0</td>\n",
       "    </tr>\n",
       "  </tbody>\n",
       "</table>\n",
       "<p>5 rows × 785 columns</p>\n",
       "</div>"
      ],
      "text/plain": [
       "   label  1x1  1x2  1x3  1x4  1x5  1x6  1x7  1x8  1x9  ...  28x19  28x20  \\\n",
       "0      5    0    0    0    0    0    0    0    0    0  ...      0      0   \n",
       "1      0    0    0    0    0    0    0    0    0    0  ...      0      0   \n",
       "2      4    0    0    0    0    0    0    0    0    0  ...      0      0   \n",
       "3      1    0    0    0    0    0    0    0    0    0  ...      0      0   \n",
       "4      9    0    0    0    0    0    0    0    0    0  ...      0      0   \n",
       "\n",
       "   28x21  28x22  28x23  28x24  28x25  28x26  28x27  28x28  \n",
       "0      0      0      0      0      0      0      0      0  \n",
       "1      0      0      0      0      0      0      0      0  \n",
       "2      0      0      0      0      0      0      0      0  \n",
       "3      0      0      0      0      0      0      0      0  \n",
       "4      0      0      0      0      0      0      0      0  \n",
       "\n",
       "[5 rows x 785 columns]"
      ]
     },
     "metadata": {},
     "output_type": "display_data"
    },
    {
     "data": {
      "text/html": [
       "<div>\n",
       "<style scoped>\n",
       "    .dataframe tbody tr th:only-of-type {\n",
       "        vertical-align: middle;\n",
       "    }\n",
       "\n",
       "    .dataframe tbody tr th {\n",
       "        vertical-align: top;\n",
       "    }\n",
       "\n",
       "    .dataframe thead th {\n",
       "        text-align: right;\n",
       "    }\n",
       "</style>\n",
       "<table border=\"1\" class=\"dataframe\">\n",
       "  <thead>\n",
       "    <tr style=\"text-align: right;\">\n",
       "      <th></th>\n",
       "      <th>label</th>\n",
       "      <th>1x1</th>\n",
       "      <th>1x2</th>\n",
       "      <th>1x3</th>\n",
       "      <th>1x4</th>\n",
       "      <th>1x5</th>\n",
       "      <th>1x6</th>\n",
       "      <th>1x7</th>\n",
       "      <th>1x8</th>\n",
       "      <th>1x9</th>\n",
       "      <th>...</th>\n",
       "      <th>28x19</th>\n",
       "      <th>28x20</th>\n",
       "      <th>28x21</th>\n",
       "      <th>28x22</th>\n",
       "      <th>28x23</th>\n",
       "      <th>28x24</th>\n",
       "      <th>28x25</th>\n",
       "      <th>28x26</th>\n",
       "      <th>28x27</th>\n",
       "      <th>28x28</th>\n",
       "    </tr>\n",
       "  </thead>\n",
       "  <tbody>\n",
       "    <tr>\n",
       "      <th>0</th>\n",
       "      <td>7</td>\n",
       "      <td>0</td>\n",
       "      <td>0</td>\n",
       "      <td>0</td>\n",
       "      <td>0</td>\n",
       "      <td>0</td>\n",
       "      <td>0</td>\n",
       "      <td>0</td>\n",
       "      <td>0</td>\n",
       "      <td>0</td>\n",
       "      <td>...</td>\n",
       "      <td>0</td>\n",
       "      <td>0</td>\n",
       "      <td>0</td>\n",
       "      <td>0</td>\n",
       "      <td>0</td>\n",
       "      <td>0</td>\n",
       "      <td>0</td>\n",
       "      <td>0</td>\n",
       "      <td>0</td>\n",
       "      <td>0</td>\n",
       "    </tr>\n",
       "    <tr>\n",
       "      <th>1</th>\n",
       "      <td>2</td>\n",
       "      <td>0</td>\n",
       "      <td>0</td>\n",
       "      <td>0</td>\n",
       "      <td>0</td>\n",
       "      <td>0</td>\n",
       "      <td>0</td>\n",
       "      <td>0</td>\n",
       "      <td>0</td>\n",
       "      <td>0</td>\n",
       "      <td>...</td>\n",
       "      <td>0</td>\n",
       "      <td>0</td>\n",
       "      <td>0</td>\n",
       "      <td>0</td>\n",
       "      <td>0</td>\n",
       "      <td>0</td>\n",
       "      <td>0</td>\n",
       "      <td>0</td>\n",
       "      <td>0</td>\n",
       "      <td>0</td>\n",
       "    </tr>\n",
       "    <tr>\n",
       "      <th>2</th>\n",
       "      <td>1</td>\n",
       "      <td>0</td>\n",
       "      <td>0</td>\n",
       "      <td>0</td>\n",
       "      <td>0</td>\n",
       "      <td>0</td>\n",
       "      <td>0</td>\n",
       "      <td>0</td>\n",
       "      <td>0</td>\n",
       "      <td>0</td>\n",
       "      <td>...</td>\n",
       "      <td>0</td>\n",
       "      <td>0</td>\n",
       "      <td>0</td>\n",
       "      <td>0</td>\n",
       "      <td>0</td>\n",
       "      <td>0</td>\n",
       "      <td>0</td>\n",
       "      <td>0</td>\n",
       "      <td>0</td>\n",
       "      <td>0</td>\n",
       "    </tr>\n",
       "    <tr>\n",
       "      <th>3</th>\n",
       "      <td>0</td>\n",
       "      <td>0</td>\n",
       "      <td>0</td>\n",
       "      <td>0</td>\n",
       "      <td>0</td>\n",
       "      <td>0</td>\n",
       "      <td>0</td>\n",
       "      <td>0</td>\n",
       "      <td>0</td>\n",
       "      <td>0</td>\n",
       "      <td>...</td>\n",
       "      <td>0</td>\n",
       "      <td>0</td>\n",
       "      <td>0</td>\n",
       "      <td>0</td>\n",
       "      <td>0</td>\n",
       "      <td>0</td>\n",
       "      <td>0</td>\n",
       "      <td>0</td>\n",
       "      <td>0</td>\n",
       "      <td>0</td>\n",
       "    </tr>\n",
       "    <tr>\n",
       "      <th>4</th>\n",
       "      <td>4</td>\n",
       "      <td>0</td>\n",
       "      <td>0</td>\n",
       "      <td>0</td>\n",
       "      <td>0</td>\n",
       "      <td>0</td>\n",
       "      <td>0</td>\n",
       "      <td>0</td>\n",
       "      <td>0</td>\n",
       "      <td>0</td>\n",
       "      <td>...</td>\n",
       "      <td>0</td>\n",
       "      <td>0</td>\n",
       "      <td>0</td>\n",
       "      <td>0</td>\n",
       "      <td>0</td>\n",
       "      <td>0</td>\n",
       "      <td>0</td>\n",
       "      <td>0</td>\n",
       "      <td>0</td>\n",
       "      <td>0</td>\n",
       "    </tr>\n",
       "  </tbody>\n",
       "</table>\n",
       "<p>5 rows × 785 columns</p>\n",
       "</div>"
      ],
      "text/plain": [
       "   label  1x1  1x2  1x3  1x4  1x5  1x6  1x7  1x8  1x9  ...  28x19  28x20  \\\n",
       "0      7    0    0    0    0    0    0    0    0    0  ...      0      0   \n",
       "1      2    0    0    0    0    0    0    0    0    0  ...      0      0   \n",
       "2      1    0    0    0    0    0    0    0    0    0  ...      0      0   \n",
       "3      0    0    0    0    0    0    0    0    0    0  ...      0      0   \n",
       "4      4    0    0    0    0    0    0    0    0    0  ...      0      0   \n",
       "\n",
       "   28x21  28x22  28x23  28x24  28x25  28x26  28x27  28x28  \n",
       "0      0      0      0      0      0      0      0      0  \n",
       "1      0      0      0      0      0      0      0      0  \n",
       "2      0      0      0      0      0      0      0      0  \n",
       "3      0      0      0      0      0      0      0      0  \n",
       "4      0      0      0      0      0      0      0      0  \n",
       "\n",
       "[5 rows x 785 columns]"
      ]
     },
     "metadata": {},
     "output_type": "display_data"
    }
   ],
   "source": [
    "train_data = pd.read_csv(r'C:\\D\\Python-Projects\\Machine-Learning\\myfile\\MNIST\\mnist_train.csv')\n",
    "test_data =  pd.read_csv(r'C:\\D\\Python-Projects\\Machine-Learning\\myfile\\MNIST\\mnist_test.csv')\n",
    "\n",
    "display(train_data.head())\n",
    "display(test_data.head())"
   ]
  },
  {
   "cell_type": "code",
   "execution_count": 37,
   "id": "87c78ce2",
   "metadata": {},
   "outputs": [
    {
     "data": {
      "image/png": "[encoded data removed]",
      "text/plain": [
       "<Figure size 640x480 with 1 Axes>"
      ]
     },
     "metadata": {},
     "output_type": "display_data"
    }
   ],
   "source": [
    "plt.imshow( train_data.iloc[2100].values[1:].reshape(28 , -1) )\n",
    "plt.show()"
   ]
  },
  {
   "cell_type": "markdown",
   "id": "f4627f4f",
   "metadata": {},
   "source": [
    "<div style=\"background-color:#f9f9ff; padding: 20px; border: 2px solid #800080; border-radius: 10px;\">\n",
    "\n",
    "### &#128187; <span style=\"color:#4b0082;\">DataLoader</span>\n",
    "\n",
    "A **DataLoader** in PyTorch is an essential utility that simplifies the process of loading data during model training and evaluation. It handles batching, shuffling, and loading of data in parallel using multiprocessing workers. By converting datasets into manageable batches, it ensures efficient and seamless data feeding into the neural network, thereby optimizing training performance and scalability.\n",
    "\n",
    "</div>\n"
   ]
  },
  {
   "cell_type": "markdown",
   "id": "0c825e67",
   "metadata": {},
   "source": [
    "<div style=\"background-color:#f9f9f9; padding: 20px; border: 2px solid #9370db; border-radius: 10px;\">\n",
    "\n",
    "### 📝 <span style=\"color:#4b0082;\">Understanding DataLoader Parameters</span>\n",
    "\n",
    "**Batch Size**: Using a batch size allows us to divide the dataset into smaller, manageable chunks, which improves training efficiency and helps with memory management. By processing batches, we can also leverage the parallel processing capabilities of modern hardware, leading to faster training times.\n",
    "\n",
    "**Data Types**:\n",
    "- `dtype=torch.long`: This is used for integer data, particularly for categorical labels in classification tasks.\n",
    "- `dtype=torch.float32`: This is used for floating-point data, ideal for numerical features that require precision.\n",
    "\n",
    "**Shuffle=True for Training**: Shuffling the training data ensures that the model does not learn the order of the data, promoting better generalization by preventing the model from overfitting to the sequence of the training data.\n",
    "\n",
    "</div>\n"
   ]
  },
  {
   "cell_type": "code",
   "execution_count": 48,
   "id": "0b6db5e5",
   "metadata": {},
   "outputs": [
    {
     "name": "stdout",
     "output_type": "stream",
     "text": [
      "tensor([[0., 0., 0.,  ..., 0., 0., 0.],\n",
      "        [0., 0., 0.,  ..., 0., 0., 0.],\n",
      "        [0., 0., 0.,  ..., 0., 0., 0.],\n",
      "        ...,\n",
      "        [0., 0., 0.,  ..., 0., 0., 0.],\n",
      "        [0., 0., 0.,  ..., 0., 0., 0.],\n",
      "        [0., 0., 0.,  ..., 0., 0., 0.]]) tensor([5, 2, 9, 5, 2, 2, 0, 9, 7, 7, 3, 6, 8, 2, 3, 1, 8, 7, 6, 3, 4, 5, 8, 0,\n",
      "        3, 4, 4, 6, 3, 6, 4, 0, 1, 3, 6, 4, 8, 5, 5, 8, 4, 1, 2, 6, 5, 0, 5, 4,\n",
      "        7, 8, 3, 6, 0, 2, 0, 9, 7, 9, 9, 8, 7, 2, 3, 8])\n"
     ]
    }
   ],
   "source": [
    "import pandas as pd\n",
    "import torch\n",
    "from torch.utils.data import DataLoader, TensorDataset\n",
    "\n",
    "\n",
    "# Function to create DataLoader from DataFrame\n",
    "def create_dataloader(df, batch_size=32, shuffle=True):\n",
    "    # Convert DataFrame to tensors\n",
    "    labels = torch.tensor(df.iloc[:, 0].values, dtype=torch.long)\n",
    "    features = torch.tensor(df.iloc[:, 1:].values, dtype=torch.float32)\n",
    "\n",
    "    # Create TensorDataset\n",
    "    dataset = TensorDataset(features, labels)\n",
    "\n",
    "    # Create DataLoader\n",
    "    dataloader = DataLoader(dataset, batch_size=batch_size, shuffle=shuffle)\n",
    "\n",
    "    return dataloader\n",
    "\n",
    "# Create DataLoaders for train and test datasets\n",
    "batch_size = 64\n",
    "\n",
    "train_loader = create_dataloader(train_data, batch_size=batch_size, shuffle=True)\n",
    "test_loader = create_dataloader(test_data, batch_size=batch_size, shuffle=False)\n",
    "\n",
    "# Example usage of the DataLoader\n",
    "for batch_features, batch_labels in train_loader:\n",
    "    print(batch_features, batch_labels)\n",
    "    break  # Remove this line to iterate over the whole dataset\n"
   ]
  },
  {
   "cell_type": "markdown",
   "id": "27a45639",
   "metadata": {},
   "source": [
    "<div style=\"background-color:#f0f8ff; padding: 20px; border: 2px solid #b0c4de; border-radius: 10px;\">\n",
    "\n",
    "### 🧠 <span style=\"color:#4682b4;\">CNN Parameters Explanation</span>\n",
    "\n",
    "When defining a Convolutional Neural Network (CNN) in PyTorch, understanding the parameters of the convolutional and linear layers is essential. Here are some key parameters:\n",
    "\n",
    "- **in_channels**: The number of input channels in the convolutional layer. For example, in the first convolutional layer, `in_channels` is 1 for grayscale images.\n",
    "- **out_channels**: The number of output channels produced by the convolutional layer. It determines the number of filters (or kernels) applied to the input.\n",
    "- **kernel_size**: The size of the filter (or kernel) applied to the input. A common choice is a 3x3 kernel.\n",
    "- **padding**: The number of pixels added to each side of the input. This is often used to control the spatial dimensions of the output feature maps. For example, `padding=1` adds a one-pixel border around the input.\n",
    "\n",
    "### View Method\n",
    "\n",
    "The `view` method in PyTorch is used to reshape tensors. In the context of CNNs, it is often used to flatten the output of convolutional layers before passing it to fully connected layers. The syntax is:\n",
    "\n",
    "```python\n",
    "x = x.view(batch_size, -1)\n"
   ]
  },
  {
   "cell_type": "code",
   "execution_count": 85,
   "id": "39dd67e5",
   "metadata": {},
   "outputs": [
    {
     "name": "stdout",
     "output_type": "stream",
     "text": [
      "Input shape: torch.Size([2, 1, 28, 28])\n"
     ]
    }
   ],
   "source": [
    "# Create a dummy input tensor with the shape of a single image from the MNIST dataset\n",
    "dummy_input = torch.randn(2, 1, 28, 28)\n",
    "\n",
    "# Forward pass through each layer\n",
    "print(f\"Input shape: {dummy_input.shape}\")"
   ]
  },
  {
   "cell_type": "code",
   "execution_count": 86,
   "id": "3774687c",
   "metadata": {},
   "outputs": [
    {
     "name": "stdout",
     "output_type": "stream",
     "text": [
      "After conv1: torch.Size([2, 32, 28, 28])\n"
     ]
    }
   ],
   "source": [
    "# Define each layer\n",
    "conv1 = nn.Conv2d(1, 32, kernel_size=3, padding=1)\n",
    "\n",
    "x = conv1(dummy_input)\n",
    "print(f\"After conv1: {x.shape}\")"
   ]
  },
  {
   "cell_type": "code",
   "execution_count": 87,
   "id": "1c488f68",
   "metadata": {},
   "outputs": [
    {
     "name": "stdout",
     "output_type": "stream",
     "text": [
      "After pool1: torch.Size([2, 32, 14, 14])\n"
     ]
    }
   ],
   "source": [
    "pool = nn.MaxPool2d(kernel_size=2, stride=2, padding=0)\n",
    "\n",
    "x = pool(x)\n",
    "print(f\"After pool1: {x.shape}\")"
   ]
  },
  {
   "cell_type": "code",
   "execution_count": 88,
   "id": "65d80822",
   "metadata": {},
   "outputs": [
    {
     "name": "stdout",
     "output_type": "stream",
     "text": [
      "After conv2: torch.Size([2, 64, 14, 14])\n"
     ]
    }
   ],
   "source": [
    "conv2 = nn.Conv2d(32, 64, kernel_size=3, padding=1)\n",
    "\n",
    "x = conv2(x)\n",
    "print(f\"After conv2: {x.shape}\")"
   ]
  },
  {
   "cell_type": "code",
   "execution_count": 89,
   "id": "34ab266e",
   "metadata": {},
   "outputs": [
    {
     "name": "stdout",
     "output_type": "stream",
     "text": [
      "After pool2: torch.Size([2, 64, 7, 7])\n"
     ]
    }
   ],
   "source": [
    "x = pool(x)\n",
    "print(f\"After pool2: {x.shape}\")"
   ]
  },
  {
   "cell_type": "code",
   "execution_count": 90,
   "id": "96b4c5fd",
   "metadata": {},
   "outputs": [
    {
     "name": "stdout",
     "output_type": "stream",
     "text": [
      "After view: torch.Size([2, 3136])\n"
     ]
    }
   ],
   "source": [
    "x = x.view(-1, 64 * 7 * 7)\n",
    "print(f\"After view: {x.shape}\")"
   ]
  },
  {
   "cell_type": "code",
   "execution_count": 91,
   "id": "7ba2ad86",
   "metadata": {},
   "outputs": [
    {
     "name": "stdout",
     "output_type": "stream",
     "text": [
      "After fc1: torch.Size([2, 128])\n"
     ]
    }
   ],
   "source": [
    "fc1 = nn.Linear(64 * 7 * 7, 128)\n",
    "\n",
    "x = fc1(x)\n",
    "print(f\"After fc1: {x.shape}\")"
   ]
  },
  {
   "cell_type": "code",
   "execution_count": 92,
   "id": "373790dc",
   "metadata": {},
   "outputs": [
    {
     "name": "stdout",
     "output_type": "stream",
     "text": [
      "After batchnorm1: torch.Size([2, 128])\n"
     ]
    }
   ],
   "source": [
    "batchnorm1 = nn.BatchNorm1d(128)\n",
    "\n",
    "x = batchnorm1(x)\n",
    "print(f\"After batchnorm1: {x.shape}\")"
   ]
  },
  {
   "cell_type": "code",
   "execution_count": 93,
   "id": "3b5f8b2f",
   "metadata": {},
   "outputs": [
    {
     "name": "stdout",
     "output_type": "stream",
     "text": [
      "After dropout1: torch.Size([2, 128])\n"
     ]
    }
   ],
   "source": [
    "dropout1 = nn.Dropout(0.5)\n",
    "\n",
    "x = dropout1(x)\n",
    "print(f\"After dropout1: {x.shape}\")"
   ]
  },
  {
   "cell_type": "code",
   "execution_count": 94,
   "id": "2d680408",
   "metadata": {},
   "outputs": [
    {
     "name": "stdout",
     "output_type": "stream",
     "text": [
      "After fc2: torch.Size([2, 64])\n"
     ]
    }
   ],
   "source": [
    "fc2 = nn.Linear(128, 64)\n",
    "\n",
    "x = fc2(x)\n",
    "print(f\"After fc2: {x.shape}\")"
   ]
  },
  {
   "cell_type": "code",
   "execution_count": 95,
   "id": "afb0fa94",
   "metadata": {},
   "outputs": [
    {
     "name": "stdout",
     "output_type": "stream",
     "text": [
      "After batchnorm2: torch.Size([2, 64])\n"
     ]
    }
   ],
   "source": [
    "batchnorm2 = nn.BatchNorm1d(64)\n",
    "\n",
    "x = batchnorm2(x)\n",
    "print(f\"After batchnorm2: {x.shape}\")\n"
   ]
  },
  {
   "cell_type": "code",
   "execution_count": 96,
   "id": "a1e74e10",
   "metadata": {},
   "outputs": [
    {
     "name": "stdout",
     "output_type": "stream",
     "text": [
      "After dropout2: torch.Size([2, 64])\n"
     ]
    }
   ],
   "source": [
    "dropout2 = nn.Dropout(0.5)\n",
    "\n",
    "x = dropout2(x)\n",
    "print(f\"After dropout2: {x.shape}\")"
   ]
  },
  {
   "cell_type": "code",
   "execution_count": 97,
   "id": "885ad70f",
   "metadata": {},
   "outputs": [
    {
     "name": "stdout",
     "output_type": "stream",
     "text": [
      "After fc3: torch.Size([2, 10])\n"
     ]
    }
   ],
   "source": [
    "fc3 = nn.Linear(64, 10)\n",
    "\n",
    "x = fc3(x)\n",
    "print(f\"After fc3: {x.shape}\")"
   ]
  },
  {
   "cell_type": "code",
   "execution_count": 49,
   "id": "d28a9ed7",
   "metadata": {},
   "outputs": [],
   "source": [
    "import torch.nn as nn\n",
    "import torch.nn.functional as F\n",
    "\n",
    "class CNNModel(nn.Module):\n",
    "    def __init__(self):\n",
    "        super(CNNModel, self).__init__()\n",
    "        self.conv1 = nn.Conv2d(in_channels=1, out_channels=32, kernel_size=3, padding=1)\n",
    "        self.pool = nn.MaxPool2d(kernel_size=2, stride=2)\n",
    "        self.conv2 = nn.Conv2d(in_channels=32, out_channels=64, kernel_size=3, padding=1)\n",
    "        self.fc1 = nn.Linear(64 * 7 * 7, 128)\n",
    "        self.bn1 = nn.BatchNorm1d(128)\n",
    "        self.dropout1 = nn.Dropout(0.5)\n",
    "        self.fc2 = nn.Linear(128, 64)\n",
    "        self.bn2 = nn.BatchNorm1d(64)\n",
    "        self.dropout2 = nn.Dropout(0.5)\n",
    "        self.output = nn.Linear(64, 10)\n",
    "\n",
    "    def forward(self, x):\n",
    "        x = self.pool(F.relu(self.conv1(x)))\n",
    "        x = self.pool(F.relu(self.conv2(x)))\n",
    "        x = x.view(-1, 64 * 7 * 7)  # Flatten the tensor\n",
    "        x = F.relu(self.fc1(x))\n",
    "        x = self.bn1(x)\n",
    "        x = self.dropout1(x)\n",
    "        x = F.relu(self.fc2(x))\n",
    "        x = self.bn2(x)\n",
    "        x = self.dropout2(x)\n",
    "        x = self.output(x)\n",
    "        return x\n"
   ]
  },
  {
   "cell_type": "code",
   "execution_count": 50,
   "id": "7c993f90",
   "metadata": {},
   "outputs": [
    {
     "name": "stdout",
     "output_type": "stream",
     "text": [
      "Epoch [1/10], Loss: 0.2602\n",
      "Epoch [2/10], Loss: 0.0887\n",
      "Epoch [3/10], Loss: 0.0680\n",
      "Epoch [4/10], Loss: 0.0553\n",
      "Epoch [5/10], Loss: 0.0489\n",
      "Epoch [6/10], Loss: 0.0415\n",
      "Epoch [7/10], Loss: 0.0361\n",
      "Epoch [8/10], Loss: 0.0369\n",
      "Epoch [9/10], Loss: 0.0306\n",
      "Epoch [10/10], Loss: 0.0285\n",
      "Training complete.\n"
     ]
    }
   ],
   "source": [
    "import torch.optim as optim\n",
    "\n",
    "# Initialize the model, loss function, and optimizer\n",
    "model = CNNModel()\n",
    "criterion = nn.CrossEntropyLoss()\n",
    "optimizer = optim.Adam(model.parameters(), lr=0.001)\n",
    "\n",
    "# Training loop\n",
    "num_epochs = 10\n",
    "for epoch in range(num_epochs):\n",
    "    model.train()\n",
    "    running_loss = 0.0\n",
    "    for images, labels in train_loader:\n",
    "        images = images.view(-1, 1, 28, 28)  # Reshape images to [batch_size, channels, height, width]\n",
    "        \n",
    "        # Zero the parameter gradients\n",
    "        optimizer.zero_grad()\n",
    "        \n",
    "        # Forward pass\n",
    "        outputs = model(images)\n",
    "        \n",
    "        # Compute loss\n",
    "        loss = criterion(outputs, labels)\n",
    "        \n",
    "        # Backward pass and optimize\n",
    "        loss.backward()\n",
    "        optimizer.step()\n",
    "        \n",
    "        # Accumulate loss\n",
    "        running_loss += loss.item()\n",
    "    \n",
    "    print(f'Epoch [{epoch+1}/{num_epochs}], Loss: {running_loss/len(train_loader):.4f}')\n",
    "\n",
    "print(\"Training complete.\")\n"
   ]
  },
  {
   "cell_type": "markdown",
   "id": "6eccfa55",
   "metadata": {},
   "source": [
    "<div style=\"background-color:#f0f8ff; padding: 20px; border: 2px solid #b0c4de; border-radius: 10px;\">\n",
    "\n",
    "### 🧠 <span style=\"color:#4682b4;\">Model Evaluation</span>\n",
    "\n",
    "Evaluating the model is a crucial step in understanding its performance on unseen data. Here, we:\n",
    "\n",
    "- **Set the model to evaluation mode**: This disables dropout layers and batch normalization.\n",
    "- **Compute Predictions**: Using the trained model, we compute predictions for the test set.\n",
    "- **Calculate Accuracy**: We compare the predicted labels to the true labels and calculate the accuracy of the model.\n",
    "\n",
    "The accuracy metric gives us an insight into how well the model generalizes to new data, ensuring its practical applicability.\n",
    "\n",
    "</div>\n"
   ]
  },
  {
   "cell_type": "code",
   "execution_count": 51,
   "id": "daaddaca",
   "metadata": {},
   "outputs": [
    {
     "name": "stdout",
     "output_type": "stream",
     "text": [
      "Test Accuracy: 99.29%\n"
     ]
    }
   ],
   "source": [
    "# Evaluation\n",
    "model.eval()\n",
    "correct = 0\n",
    "total = 0\n",
    "with torch.no_grad():\n",
    "    for images, labels in test_loader:\n",
    "        images = images.view(-1, 1, 28, 28)  # Reshape images to [batch_size, channels, height, width]\n",
    "        outputs = model(images)\n",
    "        _, predicted = torch.max(outputs.data, 1)\n",
    "        total += labels.size(0)\n",
    "        correct += (predicted == labels).sum().item()\n",
    "\n",
    "accuracy = 100 * correct / total\n",
    "print(f'Test Accuracy: {accuracy:.2f}%')\n"
   ]
  },
  {
   "cell_type": "code",
   "execution_count": 147,
   "id": "91812492",
   "metadata": {},
   "outputs": [
    {
     "data": {
      "image/png": "[encoded data removed]",
      "text/plain": [
       "<Figure size 1500x1000 with 6 Axes>"
      ]
     },
     "metadata": {},
     "output_type": "display_data"
    }
   ],
   "source": [
    "find_misclassified = create_dataloader(test_data, batch_size = 10000 , shuffle=False)\n",
    "\n",
    "for images, labels in find_misclassified:\n",
    "    images = images.view(-1, 1, 28, 28)\n",
    "    outputs = model(images)\n",
    "    _, predicted = torch.max(outputs, 1)\n",
    "    break\n",
    "\n",
    "    if predicted.item() != label.item():\n",
    "        misclassified_examples.append((image.squeeze(), label.item(), predicted.item()))\n",
    "        if len(misclassified_examples) == 3:\n",
    "            break\n",
    "            \n",
    "indices = [i for i, (x, y) in enumerate(zip(  predicted  , labels)) if x != y][:6]\n",
    "\n",
    "true_labels =[ labels[x ] for x in indices] # true labels\n",
    "predicted_labels = [ predicted[x ] for x in indices]  # predicted labels\n",
    "test_data_images = [test_data.drop('label' , axis = 1).iloc[x].values.reshape(28 , 28) for x in indices ]  #  test data images\n",
    "\n",
    "fig, axes = plt.subplots(2, 3, figsize=(15, 10))\n",
    "\n",
    "# Plot each misclassified row with true and predicted labels\n",
    "for i, ax in enumerate(axes.flatten()):\n",
    "    ax.imshow(test_data_images[i], cmap='plasma')  # Assuming grayscale images\n",
    "    ax.set_title(f'True: {true_labels[i]}, Predicted: {predicted_labels[i]}')\n",
    "    ax.axis('off')\n",
    "\n",
    "plt.tight_layout()\n",
    "plt.show()\n"
   ]
  },
  {
   "cell_type": "code",
   "execution_count": null,
   "id": "1ff8ba68",
   "metadata": {},
   "outputs": [],
   "source": []
  }
 ],
 "metadata": {
  "kernelspec": {
   "display_name": "Python 3 (ipykernel)",
   "language": "python",
   "name": "python3"
  },
  "language_info": {
   "codemirror_mode": {
    "name": "ipython",
    "version": 3
   },
   "file_extension": ".py",
   "mimetype": "text/x-python",
   "name": "python",
   "nbconvert_exporter": "python",
   "pygments_lexer": "ipython3",
   "version": "3.7.3"
  }
 },
 "nbformat": 4,
 "nbformat_minor": 5
}
