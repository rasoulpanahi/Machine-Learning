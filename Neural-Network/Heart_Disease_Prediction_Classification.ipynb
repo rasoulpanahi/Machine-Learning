{
 "cells": [
  {
   "cell_type": "markdown",
   "id": "b767332f",
   "metadata": {},
   "source": [
    "<div style=\"background-color: #3498db; padding: 20px;\">\n",
    "    <h1 style=\"font-size: 100px; color: #ffffff;\">Artificial Neural Network</h1>\n",
    "</div>\n"
   ]
  },
  {
   "cell_type": "code",
   "execution_count": 1,
   "id": "80917a61",
   "metadata": {},
   "outputs": [],
   "source": [
    "import numpy as np\n",
    "import pandas as pd\n",
    "import matplotlib.pyplot as plt \n",
    "import matplotlib.ticker as mtick"
   ]
  },
  {
   "cell_type": "code",
   "execution_count": 2,
   "id": "9162890d",
   "metadata": {},
   "outputs": [
    {
     "name": "stderr",
     "output_type": "stream",
     "text": [
      "C:\\Users\\rasou\\anaconda_2024\\envs\\pytorchenv\\lib\\site-packages\\sklearn\\utils\\validation.py:37: DeprecationWarning: distutils Version classes are deprecated. Use packaging.version instead.\n",
      "  LARGE_SPARSE_SUPPORTED = LooseVersion(scipy_version) >= '0.14.0'\n"
     ]
    }
   ],
   "source": [
    "from sklearn.metrics import accuracy_score, classification_report, confusion_matrix\n",
    "from sklearn.model_selection import train_test_split\n",
    "from sklearn.preprocessing import LabelEncoder"
   ]
  },
  {
   "cell_type": "code",
   "execution_count": 3,
   "id": "d0150911",
   "metadata": {},
   "outputs": [],
   "source": [
    "import torch\n",
    "import torch.nn as nn\n",
    "import torch.optim as optim\n",
    "import torch.nn.functional as F\n",
    "from torch.utils.data import DataLoader, TensorDataset"
   ]
  },
  {
   "cell_type": "markdown",
   "id": "b6a1f4c7",
   "metadata": {},
   "source": [
    "# <span style=\"color:#3498db\">Developing an ANN Classification Model for Heart Disease Prediction</span>\n",
    "\n",
    "The Heart Disease UCI dataset offers insights into predicting heart disease based on various medical factors. Below are the key steps to craft an effective Artificial Neural Network (ANN) classification model using PyTorch:\n",
    "\n",
    "## <span style=\"color:#27ae60\">1. Data Loading and Preprocessing:</span>\n",
    "- **Load Data:** Begin by loading the dataset and comprehensively understand its structure and features.\n",
    "- **Preprocessing:** Address missing values by employing suitable techniques. Encode categorical variables via methods like one-hot encoding for numerical conversion. Normalize numerical features to ensure uniformity in scale, facilitating better model convergence.\n",
    "\n",
    "## <span style=\"color:#27ae60\">2. Train-Test Split:</span>\n",
    "- **Data Segmentation:** Segment the dataset into training and testing sets. Typically, allocate 70-80% for training and the rest for testing to gauge model performance on unseen data.\n",
    "\n",
    "## <span style=\"color:#27ae60\">3. Model Definition:</span>\n",
    "- **Architectural Blueprint:** Define the neural network architecture, specifying the number of layers and neurons per layer.\n",
    "- **Activation Functions:** Opt for appropriate activation functions (e.g., ReLU, sigmoid) for hidden layers.\n",
    "- **Input and Output Layer Design:** Determine the input node count based on features and define the output layer with a suitable activation function, like sigmoid for binary classification.\n",
    "\n",
    "## <span style=\"color:#27ae60\">4. Model Training:</span>\n",
    "- **Loss Function Selection:** Choose an apt loss function, such as binary cross-entropy loss for binary classification tasks.\n",
    "- **Optimizer Configuration:** Opt for an optimizer (e.g., Adam, SGD) and set its learning rate.\n",
    "- **Iterative Training:** Train the model over multiple epochs, refining parameters to minimize loss. Monitor training progress and fine-tune hyperparameters as needed for enhanced performance.\n",
    "\n",
    "## <span style=\"color:#27ae60\">5. Model Evaluation:</span>\n",
    "- **Performance Assessment:** Evaluate the trained model on the testing dataset to gauge its efficacy.\n",
    "- **Metrics Computation:** Calculate performance metrics like accuracy, precision, recall, and F1-score to quantify model effectiveness.\n",
    "- **Visual Insights:** Utilize visualization tools such as confusion matrices or ROC curves for deeper performance analysis across different thresholds.\n",
    "\n",
    "## <span style=\"color:#27ae60\">6. Model Fine-Tuning (Optional):</span>\n",
    "- **Architectural Experimentation:** Explore diverse architectures, activation functions, or optimization algorithms to boost model efficacy.\n",
    "- **Hyperparameter Tuning:** Conduct hyperparameter tuning through methods like grid search or random search for optimal parameter combinations.\n",
    "\n",
    "## <span style=\"color:#27ae60\">7. Deployment:</span>\n",
    "- **Model Integration:** Upon satisfactory performance, deploy the model for real-world inference.\n",
    "- **Predictive Utilization:** Employ the trained model to make predictions on new data or integrate it into applications for automated decision-making.\n",
    "\n",
    "Through these meticulously crafted steps, one can craft an impactful ANN classification model using PyTorch for heart disease prediction, ensuring robust performance and reliable insights.\n"
   ]
  },
  {
   "cell_type": "markdown",
   "id": "56064524",
   "metadata": {},
   "source": [
    "# <span style=\"color:#3498db\">Heart Disease UCI Dataset</span>\n",
    "\n",
    "<div style=\"background-color:#e8f5e9; padding: 10px; border-radius: 5px;\">\n",
    "\n",
    "**<span style=\"color:#e74c3c\">Description:</span>**  \n",
    "The Heart Disease dataset contains medical information about patients, with the goal of predicting the presence of heart disease.\n",
    "\n",
    "**<span style=\"color:#e74c3c\">Categorical Variables:</span>**  \n",
    "- `id` Unique id for each patient\n",
    "- `dataset` Place of study\n",
    "- `sex` (1 = male; 0 = female)\n",
    "- `cp` (chest pain type: 0-3)\n",
    "- `fbs` (fasting blood sugar > 120 mg/dl: 1 = true; 0 = false)\n",
    "- `restecg` (resting electrocardiographic results: 0-2)\n",
    "- `exang` (exercise induced angina: 1 = yes; 0 = no)\n",
    "- `thal` (thalassemia: 0-3)\n",
    "- `slope` The slope of the peak exercise ST segment\n",
    "\n",
    "\n",
    "**<span style=\"color:#e74c3c\">Numerical Variables:</span>**  \n",
    "- `age` (years)\n",
    "- `trestbps` (resting blood pressure)\n",
    "- `chol` (serum cholesterol in mg/dl)\n",
    "- `thalch` (maximum heart rate achieved)\n",
    "- `oldpeak` (ST depression induced by exercise relative to rest)\n",
    "- `ca` number of major vessels (0-3) colored by fluoroscopy\n",
    "\n",
    "\n",
    "\n",
    "**<span style=\"color:#e74c3c\">Target Variable:</span>**  \n",
    "- `num` The predicted attribute, target [0=no heart disease; 1,2,3,4 = stages of heart disease ]\n",
    "\n",
    "<p>To see more about this data set <a href=\"https://www.kaggle.com/datasets/redwankarimsony/heart-disease-data\" target=\"_blank\">click here</a>.</p>\n",
    "\n",
    "\n",
    "\n",
    "</div>\n"
   ]
  },
  {
   "cell_type": "markdown",
   "id": "5dbca114",
   "metadata": {},
   "source": [
    "## <span style=\"color:#27ae60\">1. Data Loading and Preprocessing:</span>"
   ]
  },
  {
   "cell_type": "code",
   "execution_count": 4,
   "id": "1a597ccc",
   "metadata": {},
   "outputs": [
    {
     "data": {
      "text/html": [
       "<div>\n",
       "<style scoped>\n",
       "    .dataframe tbody tr th:only-of-type {\n",
       "        vertical-align: middle;\n",
       "    }\n",
       "\n",
       "    .dataframe tbody tr th {\n",
       "        vertical-align: top;\n",
       "    }\n",
       "\n",
       "    .dataframe thead th {\n",
       "        text-align: right;\n",
       "    }\n",
       "</style>\n",
       "<table border=\"1\" class=\"dataframe\">\n",
       "  <thead>\n",
       "    <tr style=\"text-align: right;\">\n",
       "      <th></th>\n",
       "      <th>id</th>\n",
       "      <th>age</th>\n",
       "      <th>sex</th>\n",
       "      <th>dataset</th>\n",
       "      <th>cp</th>\n",
       "      <th>trestbps</th>\n",
       "      <th>chol</th>\n",
       "      <th>fbs</th>\n",
       "      <th>restecg</th>\n",
       "      <th>thalch</th>\n",
       "      <th>exang</th>\n",
       "      <th>oldpeak</th>\n",
       "      <th>slope</th>\n",
       "      <th>ca</th>\n",
       "      <th>thal</th>\n",
       "      <th>num</th>\n",
       "    </tr>\n",
       "  </thead>\n",
       "  <tbody>\n",
       "    <tr>\n",
       "      <th>0</th>\n",
       "      <td>1</td>\n",
       "      <td>63</td>\n",
       "      <td>Male</td>\n",
       "      <td>Cleveland</td>\n",
       "      <td>typical angina</td>\n",
       "      <td>145.0</td>\n",
       "      <td>233.0</td>\n",
       "      <td>True</td>\n",
       "      <td>lv hypertrophy</td>\n",
       "      <td>150.0</td>\n",
       "      <td>False</td>\n",
       "      <td>2.3</td>\n",
       "      <td>downsloping</td>\n",
       "      <td>0.0</td>\n",
       "      <td>fixed defect</td>\n",
       "      <td>0</td>\n",
       "    </tr>\n",
       "    <tr>\n",
       "      <th>1</th>\n",
       "      <td>2</td>\n",
       "      <td>67</td>\n",
       "      <td>Male</td>\n",
       "      <td>Cleveland</td>\n",
       "      <td>asymptomatic</td>\n",
       "      <td>160.0</td>\n",
       "      <td>286.0</td>\n",
       "      <td>False</td>\n",
       "      <td>lv hypertrophy</td>\n",
       "      <td>108.0</td>\n",
       "      <td>True</td>\n",
       "      <td>1.5</td>\n",
       "      <td>flat</td>\n",
       "      <td>3.0</td>\n",
       "      <td>normal</td>\n",
       "      <td>2</td>\n",
       "    </tr>\n",
       "    <tr>\n",
       "      <th>2</th>\n",
       "      <td>3</td>\n",
       "      <td>67</td>\n",
       "      <td>Male</td>\n",
       "      <td>Cleveland</td>\n",
       "      <td>asymptomatic</td>\n",
       "      <td>120.0</td>\n",
       "      <td>229.0</td>\n",
       "      <td>False</td>\n",
       "      <td>lv hypertrophy</td>\n",
       "      <td>129.0</td>\n",
       "      <td>True</td>\n",
       "      <td>2.6</td>\n",
       "      <td>flat</td>\n",
       "      <td>2.0</td>\n",
       "      <td>reversable defect</td>\n",
       "      <td>1</td>\n",
       "    </tr>\n",
       "    <tr>\n",
       "      <th>3</th>\n",
       "      <td>4</td>\n",
       "      <td>37</td>\n",
       "      <td>Male</td>\n",
       "      <td>Cleveland</td>\n",
       "      <td>non-anginal</td>\n",
       "      <td>130.0</td>\n",
       "      <td>250.0</td>\n",
       "      <td>False</td>\n",
       "      <td>normal</td>\n",
       "      <td>187.0</td>\n",
       "      <td>False</td>\n",
       "      <td>3.5</td>\n",
       "      <td>downsloping</td>\n",
       "      <td>0.0</td>\n",
       "      <td>normal</td>\n",
       "      <td>0</td>\n",
       "    </tr>\n",
       "    <tr>\n",
       "      <th>4</th>\n",
       "      <td>5</td>\n",
       "      <td>41</td>\n",
       "      <td>Female</td>\n",
       "      <td>Cleveland</td>\n",
       "      <td>atypical angina</td>\n",
       "      <td>130.0</td>\n",
       "      <td>204.0</td>\n",
       "      <td>False</td>\n",
       "      <td>lv hypertrophy</td>\n",
       "      <td>172.0</td>\n",
       "      <td>False</td>\n",
       "      <td>1.4</td>\n",
       "      <td>upsloping</td>\n",
       "      <td>0.0</td>\n",
       "      <td>normal</td>\n",
       "      <td>0</td>\n",
       "    </tr>\n",
       "  </tbody>\n",
       "</table>\n",
       "</div>"
      ],
      "text/plain": [
       "   id  age     sex    dataset               cp  trestbps   chol    fbs  \\\n",
       "0   1   63    Male  Cleveland   typical angina     145.0  233.0   True   \n",
       "1   2   67    Male  Cleveland     asymptomatic     160.0  286.0  False   \n",
       "2   3   67    Male  Cleveland     asymptomatic     120.0  229.0  False   \n",
       "3   4   37    Male  Cleveland      non-anginal     130.0  250.0  False   \n",
       "4   5   41  Female  Cleveland  atypical angina     130.0  204.0  False   \n",
       "\n",
       "          restecg  thalch  exang  oldpeak        slope   ca  \\\n",
       "0  lv hypertrophy   150.0  False      2.3  downsloping  0.0   \n",
       "1  lv hypertrophy   108.0   True      1.5         flat  3.0   \n",
       "2  lv hypertrophy   129.0   True      2.6         flat  2.0   \n",
       "3          normal   187.0  False      3.5  downsloping  0.0   \n",
       "4  lv hypertrophy   172.0  False      1.4    upsloping  0.0   \n",
       "\n",
       "                thal  num  \n",
       "0       fixed defect    0  \n",
       "1             normal    2  \n",
       "2  reversable defect    1  \n",
       "3             normal    0  \n",
       "4             normal    0  "
      ]
     },
     "execution_count": 4,
     "metadata": {},
     "output_type": "execute_result"
    }
   ],
   "source": [
    "df = pd.read_csv( r'C:\\D\\Python-Projects\\Machine-Learning\\myfile\\heart_disease_uci.csv' )\n",
    "df.head()"
   ]
  },
  {
   "cell_type": "code",
   "execution_count": 5,
   "id": "37aa8f89",
   "metadata": {},
   "outputs": [
    {
     "name": "stdout",
     "output_type": "stream",
     "text": [
      "\n",
      "Missing values in the dataset:\n",
      "   id  age  sex  dataset  cp  trestbps  chol  fbs  restecg  thalch  exang  \\\n",
      "0   0    0    0        0   0        59    30   90        2      55     55   \n",
      "\n",
      "   oldpeak  slope   ca  thal  num  \n",
      "0       62    309  611   486    0  \n"
     ]
    }
   ],
   "source": [
    "# Check for missing values\n",
    "print(\"\\nMissing values in the dataset:\")\n",
    "print(df.isnull().sum().to_frame().T)"
   ]
  },
  {
   "cell_type": "markdown",
   "id": "6aedf220",
   "metadata": {},
   "source": [
    "<div style=\"background-color:#f0f8ff; padding: 20px; border: 2px solid #b0c4de; border-radius: 10px;\">\n",
    "\n",
    "### &#9881; <span style=\"color:#4682b4;\">Data Cleaning Strategy</span>\n",
    "\n",
    "To handle the missing values in our dataset, we will employ a combination of strategies tailored to the characteristics of each column. Here’s the plan:\n",
    "\n",
    "1. **Categorical Columns**:\n",
    "   - **`slope`** and **`thal`**: These columns contain categorical data. We will define a new category labeled as <code>Unknown</code> and fill the null values with this category.\n",
    "\n",
    "2. **Continuous Columns**:\n",
    "   - **`thalach`**, **`trestbps`**, **`chol`**, and **`oldpeak`**: For these continuous variables, we will fill the null values with the average (mean) of the column.\n",
    "\n",
    "3. **Columns with Minimal Null Values**:\n",
    "   - **`restecg`**: This column has only 2 null values. We will drop these rows to maintain data integrity.\n",
    "\n",
    "4. **Columns with Most Frequent Value**:\n",
    "   - **`exang`** , **`ca`** and **`fbs`**: We will fill the null values with the most frequent value (mode) in these columns.\n",
    "\n",
    "<span style=\"color:#d9534f;\">**Note:**</span> There are various strategies to handle missing values. For instance, it can be effective to fill the null values of a column based on the value in another column. However, for simplicity and clarity, we are using the aforementioned methods.\n",
    "\n",
    "</div>\n"
   ]
  },
  {
   "cell_type": "code",
   "execution_count": 6,
   "id": "bb86742f",
   "metadata": {},
   "outputs": [],
   "source": [
    "# Replace null values in 'thal' and 'slope' columns with a new category label 'Unknown'\n",
    "df['thal'].fillna('Unknown', inplace=True)\n",
    "df['slope'].fillna('Unknown', inplace=True)"
   ]
  },
  {
   "cell_type": "markdown",
   "id": "33ad6581",
   "metadata": {},
   "source": [
    "<div style=\"background-color:#f8d7da; padding: 15px; border: 2px solid #f5c6cb; border-radius: 5px;\">\n",
    "    <p style=\"color:#721c24; font-size:16px;\">\n",
    "        &#9888; <strong>Attention:</strong> Although the histogram of the <code>chol</code> column in our dataset shows two distinct peaks, indicating a bimodal distribution, and replacing the null values with the average may not be the most accurate approach due to the average falling in an interval with sparse data, we will proceed with this method for simplicity. This straightforward imputation strategy allows us to maintain consistency and proceed with our analysis without introducing additional complexity.\n",
    "    </p>\n",
    "</div>\n"
   ]
  },
  {
   "cell_type": "code",
   "execution_count": 7,
   "id": "0ea44890",
   "metadata": {
    "scrolled": false
   },
   "outputs": [
    {
     "name": "stderr",
     "output_type": "stream",
     "text": [
      "C:\\Users\\rasou\\anaconda_2024\\envs\\pytorchenv\\lib\\site-packages\\numpy\\lib\\histograms.py:824: RuntimeWarning: invalid value encountered in greater_equal\n",
      "  keep = (tmp_a >= first_edge)\n",
      "C:\\Users\\rasou\\anaconda_2024\\envs\\pytorchenv\\lib\\site-packages\\numpy\\lib\\histograms.py:825: RuntimeWarning: invalid value encountered in less_equal\n",
      "  keep &= (tmp_a <= last_edge)\n"
     ]
    },
    {
     "data": {
      "image/png": "[encoded data removed]",
      "text/plain": [
       "<Figure size 640x480 with 1 Axes>"
      ]
     },
     "metadata": {},
     "output_type": "display_data"
    },
    {
     "data": {
      "image/png": "[encoded data removed]",
      "text/plain": [
       "<Figure size 640x480 with 1 Axes>"
      ]
     },
     "metadata": {},
     "output_type": "display_data"
    },
    {
     "data": {
      "image/png": "[encoded data removed]",
      "text/plain": [
       "<Figure size 640x480 with 1 Axes>"
      ]
     },
     "metadata": {},
     "output_type": "display_data"
    },
    {
     "data": {
      "image/png": "[encoded data removed]",
      "text/plain": [
       "<Figure size 640x480 with 1 Axes>"
      ]
     },
     "metadata": {},
     "output_type": "display_data"
    }
   ],
   "source": [
    "dict_columns = {'thalch'   : 'maximum heart rate achieved' , \\\n",
    "                'trestbps' : 'resting blood pressure'      , \\\n",
    "                'chol'     : 'serum cholesterol in mg/dl'  , \\\n",
    "                'oldpeak'  : 'ST depression induced by exercise relative to rest'}\n",
    "for column , description in dict_columns.items():\n",
    "    plt.hist( df[column] , color = 'blue')\n",
    "    plt.title(f'The histogram of {description}')\n",
    "    plt.grid()\n",
    "    plt.show()\n",
    "    # Fill null values in thalch with the mean value\n",
    "    mean_value = df[column].mean()\n",
    "\n",
    "\n",
    "    df[column].fillna( mean_value , inplace=True)"
   ]
  },
  {
   "cell_type": "markdown",
   "id": "b2300cfb",
   "metadata": {},
   "source": [
    "<div style=\"background-color:#eaf2f8; padding: 15px; border: 2px solid #aed6f1; border-radius: 5px;\">\n",
    "    <p style=\"color:#1a5276; font-size:16px;\">\n",
    "        &#9989; <strong>Data Cleaning:</strong> The <code>restecg</code> column, which indicates fasting blood sugar levels, contains only 2 null values. To maintain the integrity of our dataset and ensure a smooth analysis, we will simply remove these 2 rows. This straightforward approach prevents potential biases or inaccuracies that could arise from imputing such a small number of missing values.\n",
    "    </p>\n",
    "</div>\n"
   ]
  },
  {
   "cell_type": "code",
   "execution_count": 8,
   "id": "c324f630",
   "metadata": {},
   "outputs": [],
   "source": [
    "# Remove rows with null values in the 'fbs' column\n",
    "df = df.dropna(subset=['restecg'])"
   ]
  },
  {
   "cell_type": "code",
   "execution_count": 9,
   "id": "cd880e03",
   "metadata": {},
   "outputs": [
    {
     "data": {
      "image/png": "[encoded data removed]",
      "text/plain": [
       "<Figure size 640x480 with 1 Axes>"
      ]
     },
     "metadata": {},
     "output_type": "display_data"
    }
   ],
   "source": [
    "ax = ( 100*df['ca'].value_counts(normalize = True ) ) .plot.bar( color = 'darkblue')\n",
    "plt.xticks(rotation = 0)\n",
    "ax.yaxis.set_major_formatter(mtick.PercentFormatter())\n",
    "plt.show()\n",
    "# Replace null values in 'ca' column with 0 which is the most frequent values\n",
    "df['ca'].fillna( 0 , inplace=True)"
   ]
  },
  {
   "cell_type": "code",
   "execution_count": 10,
   "id": "74290cbc",
   "metadata": {},
   "outputs": [
    {
     "name": "stdout",
     "output_type": "stream",
     "text": [
      "False    60.950174\n",
      "True     39.049826\n",
      "Name: exang, dtype: float64\n"
     ]
    }
   ],
   "source": [
    "print( 100 * df['exang'].value_counts(normalize = True ) )\n",
    "\n",
    "# Fill null values in 'exang' column with False\n",
    "df['exang'].fillna(False, inplace=True)"
   ]
  },
  {
   "cell_type": "code",
   "execution_count": 11,
   "id": "01171ad7",
   "metadata": {},
   "outputs": [
    {
     "name": "stdout",
     "output_type": "stream",
     "text": [
      "False    83.353438\n",
      "True     16.646562\n",
      "Name: fbs, dtype: float64\n"
     ]
    }
   ],
   "source": [
    "print( 100 * df['fbs'].value_counts(normalize = True ) )\n",
    "\n",
    "# Fill null values in 'exang' column with False\n",
    "df['fbs'].fillna(False, inplace=True)"
   ]
  },
  {
   "cell_type": "code",
   "execution_count": 12,
   "id": "bf18d04a",
   "metadata": {},
   "outputs": [
    {
     "name": "stdout",
     "output_type": "stream",
     "text": [
      "\n",
      "Missing values in the dataset:\n",
      "   id  age  sex  dataset  cp  trestbps  chol  fbs  restecg  thalch  exang  \\\n",
      "0   0    0    0        0   0         0     0    0        0       0      0   \n",
      "\n",
      "   oldpeak  slope  ca  thal  num  \n",
      "0        0      0   0     0    0  \n"
     ]
    }
   ],
   "source": [
    "\n",
    "\n",
    "# Check agin for missing values\n",
    "print(\"\\nMissing values in the dataset:\")\n",
    "print(df.isnull().sum().to_frame().T)"
   ]
  },
  {
   "cell_type": "markdown",
   "id": "4bd282ec",
   "metadata": {},
   "source": [
    "<div style=\"background-color:#f0f8ff; padding: 20px; border: 2px solid #b0c4de; border-radius: 10px;\">\n",
    "\n",
    "### &#128296; <span style=\"color:#4682b4;\">Data Preprocessing</span>\n",
    "\n",
    "Before we proceed with splitting our data into training and testing sets, we need to clean it up by removing some columns:\n",
    "\n",
    "- **`id`**: This column is simply an identifier and doesn't provide any useful information for our model, so it will be removed.\n",
    "- **`dataset`**: This column indicates the place of study. While the place of study could potentially influence other variables (e.g., different methods or metrics used), we will remove it for simplicity.\n",
    "\n",
    "Here’s how we do it:\n",
    "\n"
   ]
  },
  {
   "cell_type": "code",
   "execution_count": 13,
   "id": "b262f765",
   "metadata": {},
   "outputs": [],
   "source": [
    "# Removing 'id' and 'dataset' columns\n",
    "df = df.drop(columns=['id', 'dataset'])\n"
   ]
  },
  {
   "cell_type": "markdown",
   "id": "251a580c",
   "metadata": {},
   "source": [
    "## <span style=\"color:#27ae60\">2. Train-Test Split:</span>"
   ]
  },
  {
   "cell_type": "markdown",
   "id": "7c1e139c",
   "metadata": {},
   "source": [
    "<div style=\"background-color:#f0f8ff; padding: 20px; border: 2px solid #b0c4de; border-radius: 10px;\">\n",
    "\n",
    "### &#128200; <span style=\"color:#4682b4;\">Train-Test Splitting</span>\n",
    "\n",
    "Splitting your dataset into training and testing sets is a crucial step in developing machine learning models. This practice ensures that the model is evaluated on unseen data, providing a realistic measure of its performance.\n",
    "\n",
    "While it is often a good practice, and sometimes necessary, to split your data into three sets: training, validation, and testing, for simplicity, we will split the data into just two sets for now:\n",
    "\n",
    "- **Training Set**: Used to train the model.\n",
    "- **Testing Set**: Used to evaluate the model's performance.\n",
    "\n",
    "This approach helps us quickly assess our model while ensuring that we don't test on the same data we train on.\n"
   ]
  },
  {
   "cell_type": "code",
   "execution_count": 14,
   "id": "7b4823dc",
   "metadata": {},
   "outputs": [],
   "source": [
    "\n",
    "def split_data(df, target_column, test_size=0.2, random_state=42):\n",
    "    \"\"\"\n",
    "    Split the DataFrame into training and testing sets.\n",
    "\n",
    "    Parameters:\n",
    "    - df: DataFrame\n",
    "        The DataFrame containing the data to be split.\n",
    "    - target_column: str\n",
    "        The name of the target column.\n",
    "    - test_size: float, optional (default=0.2)\n",
    "        The proportion of the dataset to include in the test split.\n",
    "    - random_state: int, optional (default=42)\n",
    "        Random seed for reproducibility.\n",
    "\n",
    "    Returns:\n",
    "    - X_train: DataFrame\n",
    "        The features of the training set.\n",
    "    - X_test: DataFrame\n",
    "        The features of the testing set.\n",
    "    - y_train: Series\n",
    "        The target values of the training set.\n",
    "    - y_test: Series\n",
    "        The target values of the testing set.\n",
    "    \"\"\"\n",
    "    X = df.drop(columns=[target_column])\n",
    "    y = df[target_column]\n",
    "    X_train, X_test, y_train, y_test = train_test_split(X, y, test_size=test_size, random_state=random_state)\n",
    "    return X_train, X_test, y_train, y_test\n"
   ]
  },
  {
   "cell_type": "markdown",
   "id": "852a3aa2",
   "metadata": {},
   "source": [
    "## <span style=\"color:#27ae60\">3. Model Definition:</span>"
   ]
  },
  {
   "cell_type": "markdown",
   "id": "c5835550",
   "metadata": {},
   "source": [
    "<div style=\"background-color:#f0f8ff; padding: 20px; border: 2px solid #b0c4de; border-radius: 10px;\">\n",
    "\n",
    "### &#128295; <span style=\"color:#4682b4;\">Model Definition</span>\n",
    "\n",
    "Defining the model architecture is a critical step in building a neural network. This involves specifying the layers, activation functions, and other components that make up the model. In our case, we will include:\n",
    "\n",
    "- **Embedding Layers**: For categorical variables, transforming them into dense vectors.\n",
    "- **Hidden Layers**: To learn complex patterns from the input features.\n",
    "- **Batch normalization**: It normalizes the output of a previous layer by \n",
    "    subtracting the batch mean and dividing by the batch standard deviation.\n",
    "- **Output Layer**: For binary classification, predicting the probability of the target class.\n",
    "\n",
    "    \n",
    "    \n",
    "Below is the code that defines our neural network model using PyTorch. The model takes categorical variables and embeds them, then passes them through hidden layers to produce a binary classification output."
   ]
  },
  {
   "cell_type": "code",
   "execution_count": 15,
   "id": "db4f2c17",
   "metadata": {},
   "outputs": [],
   "source": [
    "class HeartDiseaseModel(nn.Module):\n",
    "    def __init__(self, categorical_features, categorical_dims, numerical_features, num_classes, hidden_layers=[128, 64]):\n",
    "        super(HeartDiseaseModel, self).__init__()\n",
    "        \n",
    "        # Embedding layers for each categorical feature\n",
    "        self.embeddings = nn.ModuleDict({\n",
    "            feature: nn.Embedding(num_categories, min(40, num_categories // 2))\n",
    "            for feature, num_categories in zip(categorical_features, categorical_dims)\n",
    "        })\n",
    "        \n",
    "        # Calculate the input dimension to the first hidden layer\n",
    "        input_dim = sum(min(40, num_categories // 2) for num_categories in categorical_dims) + len(numerical_features)\n",
    "        \n",
    "        # Define hidden layers and batch normalization layers\n",
    "        self.hidden_layers = nn.ModuleList()\n",
    "        self.batch_norms = nn.ModuleList()\n",
    "        for hidden_dim in hidden_layers:\n",
    "            self.hidden_layers.append(nn.Linear(input_dim, hidden_dim))\n",
    "            self.batch_norms.append(nn.BatchNorm1d(hidden_dim))\n",
    "            input_dim = hidden_dim\n",
    "        \n",
    "        # Output layer for multiclass classification\n",
    "        self.output = nn.Linear(input_dim, num_classes)\n",
    "    \n",
    "    def forward(self, x_cat, x_num):\n",
    "        # Embedding lookup for categorical features\n",
    "        embeddings = [self.embeddings[feature](x_cat[:, i]) for i, feature in enumerate(self.embeddings.keys())]\n",
    "        x_cat_embedded = torch.cat(embeddings, dim=1)\n",
    "\n",
    "        \n",
    "        # Concatenate embeddings with numerical features\n",
    "        x = torch.cat([x_cat_embedded, x_num], dim=1)\n",
    "\n",
    "        \n",
    "        # Pass through hidden layers with batch normalization\n",
    "        for layer, batch_norm in zip(self.hidden_layers, self.batch_norms):\n",
    "            x = F.relu(batch_norm(layer(x)))\n",
    "            \n",
    "\n",
    "        \n",
    "        # Output layer with softmax activation\n",
    "        x = self.output(x)\n",
    "        x = F.log_softmax(x, dim=1)\n",
    "        return x"
   ]
  },
  {
   "cell_type": "markdown",
   "id": "ca226fcc",
   "metadata": {},
   "source": [
    "## <span style=\"color:#27ae60\">4. Model Training:</span>"
   ]
  },
  {
   "cell_type": "markdown",
   "id": "85b2e208",
   "metadata": {},
   "source": [
    "<div style=\"background-color:#f0f8ff; padding: 20px; border: 2px solid #00acc1; border-radius: 10px;\">\n",
    "\n",
    "### &#128295; <span style=\"color:#00796b;\">Model Training</span>\n",
    "\n",
    "Training the model involves optimizing its parameters to minimize the loss function, thus improving its predictive performance. Here’s a breakdown of the steps involved:\n",
    "\n",
    "1. **Loss Function Selection**: Choose an appropriate loss function for the classification task. For multiclass classification, we use `CrossEntropyLoss`, which combines `log_softmax` and `nll_loss` in one single class.\n",
    "2. **Optimizer Configuration**: Select an optimizer to adjust the model parameters based on the gradients. We'll use the Adam optimizer, which is a popular choice due to its adaptive learning rate properties.\n",
    "3. **Iterative Training**: Train the model over several epochs, iteratively adjusting the parameters to minimize the loss. We will also monitor the loss to ensure the model is learning properly.\n",
    "\n",
    "Below is the code to train the `HeartDiseaseModel` using PyTorch.\n"
   ]
  },
  {
   "cell_type": "code",
   "execution_count": 16,
   "id": "9cbd281d",
   "metadata": {},
   "outputs": [],
   "source": [
    "def encode_categorical(df, columns):\n",
    "    \"\"\"\n",
    "    Encode categorical columns in a DataFrame using LabelEncoder.\n",
    "\n",
    "    Parameters:\n",
    "    - df: DataFrame\n",
    "        The DataFrame containing the categorical columns to be encoded.\n",
    "    - columns: list\n",
    "        A list of column names to be encoded.\n",
    "\n",
    "    Returns:\n",
    "    - encoded_df: Tensor\n",
    "        A Tensor in the same shape as of the original DataFrame with the specified columns encoded.\n",
    "    \"\"\"\n",
    "    # Encode target labels with value between 0 and n_classes-1.\n",
    "    le = LabelEncoder()\n",
    "\n",
    "    encoded_df = np.stack( [ le.fit_transform(df[col]) for col in categorical_features ] ,axis = 1)\n",
    "    return  torch.tensor( encoded_df )"
   ]
  },
  {
   "cell_type": "code",
   "execution_count": 17,
   "id": "9b1029bd",
   "metadata": {},
   "outputs": [
    {
     "name": "stdout",
     "output_type": "stream",
     "text": [
      "Epoch [1/100], Loss: 1.3396\n",
      "Epoch [2/100], Loss: 1.2988\n",
      "Epoch [3/100], Loss: 1.2955\n",
      "Epoch [4/100], Loss: 1.2948\n",
      "Epoch [5/100], Loss: 1.2886\n",
      "Epoch [6/100], Loss: 1.2874\n",
      "Epoch [7/100], Loss: 1.2848\n",
      "Epoch [8/100], Loss: 1.2832\n",
      "Epoch [9/100], Loss: 1.2667\n",
      "Epoch [10/100], Loss: 1.2800\n",
      "Epoch [11/100], Loss: 1.2754\n",
      "Epoch [12/100], Loss: 1.2808\n",
      "Epoch [13/100], Loss: 1.2787\n",
      "Epoch [14/100], Loss: 1.2807\n",
      "Epoch [15/100], Loss: 1.2889\n",
      "Epoch [16/100], Loss: 1.2961\n",
      "Epoch [17/100], Loss: 1.2829\n",
      "Epoch [18/100], Loss: 1.2607\n",
      "Epoch [19/100], Loss: 1.2846\n",
      "Epoch [20/100], Loss: 1.2810\n",
      "Epoch [21/100], Loss: 1.2679\n",
      "Epoch [22/100], Loss: 1.2884\n",
      "Epoch [23/100], Loss: 1.2816\n",
      "Epoch [24/100], Loss: 1.2604\n",
      "Epoch [25/100], Loss: 1.2831\n",
      "Epoch [26/100], Loss: 1.2884\n",
      "Epoch [27/100], Loss: 1.2916\n",
      "Epoch [28/100], Loss: 1.2855\n",
      "Epoch [29/100], Loss: 1.2868\n",
      "Epoch [30/100], Loss: 1.2761\n",
      "Epoch [31/100], Loss: 1.2760\n",
      "Epoch [32/100], Loss: 1.2832\n",
      "Epoch [33/100], Loss: 1.2718\n",
      "Epoch [34/100], Loss: 1.2662\n",
      "Epoch [35/100], Loss: 1.2621\n",
      "Epoch [36/100], Loss: 1.2767\n",
      "Epoch [37/100], Loss: 1.2738\n",
      "Epoch [38/100], Loss: 1.2561\n",
      "Epoch [39/100], Loss: 1.2874\n",
      "Epoch [40/100], Loss: 1.2788\n",
      "Epoch [41/100], Loss: 1.2741\n",
      "Epoch [42/100], Loss: 1.2692\n",
      "Epoch [43/100], Loss: 1.2599\n",
      "Epoch [44/100], Loss: 1.2678\n",
      "Epoch [45/100], Loss: 1.2746\n",
      "Epoch [46/100], Loss: 1.2646\n",
      "Epoch [47/100], Loss: 1.2616\n",
      "Epoch [48/100], Loss: 1.2640\n",
      "Epoch [49/100], Loss: 1.2622\n",
      "Epoch [50/100], Loss: 1.2929\n",
      "Epoch [51/100], Loss: 1.2852\n",
      "Epoch [52/100], Loss: 1.2679\n",
      "Epoch [53/100], Loss: 1.2773\n",
      "Epoch [54/100], Loss: 1.2689\n",
      "Epoch [55/100], Loss: 1.2843\n",
      "Epoch [56/100], Loss: 1.2888\n",
      "Epoch [57/100], Loss: 1.2871\n",
      "Epoch [58/100], Loss: 1.2720\n",
      "Epoch [59/100], Loss: 1.2836\n",
      "Epoch [60/100], Loss: 1.2604\n",
      "Epoch [61/100], Loss: 1.2822\n",
      "Epoch [62/100], Loss: 1.2695\n",
      "Epoch [63/100], Loss: 1.2547\n",
      "Epoch [64/100], Loss: 1.2686\n",
      "Epoch [65/100], Loss: 1.2862\n",
      "Epoch [66/100], Loss: 1.2667\n",
      "Epoch [67/100], Loss: 1.2623\n",
      "Epoch [68/100], Loss: 1.2735\n",
      "Epoch [69/100], Loss: 1.2486\n",
      "Epoch [70/100], Loss: 1.2811\n",
      "Epoch [71/100], Loss: 1.2659\n",
      "Epoch [72/100], Loss: 1.2784\n",
      "Epoch [73/100], Loss: 1.2685\n",
      "Epoch [74/100], Loss: 1.2767\n",
      "Epoch [75/100], Loss: 1.2695\n",
      "Epoch [76/100], Loss: 1.2649\n",
      "Epoch [77/100], Loss: 1.2852\n",
      "Epoch [78/100], Loss: 1.2716\n",
      "Epoch [79/100], Loss: 1.2738\n",
      "Epoch [80/100], Loss: 1.2728\n",
      "Epoch [81/100], Loss: 1.2679\n",
      "Epoch [82/100], Loss: 1.2760\n",
      "Epoch [83/100], Loss: 1.2427\n",
      "Epoch [84/100], Loss: 1.2706\n",
      "Epoch [85/100], Loss: 1.2631\n",
      "Epoch [86/100], Loss: 1.2830\n",
      "Epoch [87/100], Loss: 1.2774\n",
      "Epoch [88/100], Loss: 1.2830\n",
      "Epoch [89/100], Loss: 1.2738\n",
      "Epoch [90/100], Loss: 1.2627\n",
      "Epoch [91/100], Loss: 1.2581\n",
      "Epoch [92/100], Loss: 1.2769\n",
      "Epoch [93/100], Loss: 1.2515\n",
      "Epoch [94/100], Loss: 1.2600\n",
      "Epoch [95/100], Loss: 1.2762\n",
      "Epoch [96/100], Loss: 1.2689\n",
      "Epoch [97/100], Loss: 1.2599\n",
      "Epoch [98/100], Loss: 1.2654\n",
      "Epoch [99/100], Loss: 1.2493\n",
      "Epoch [100/100], Loss: 1.2765\n",
      "Training complete.\n"
     ]
    }
   ],
   "source": [
    "X_train, X_test, y_train, y_test = split_data(df , target_column= 'num')\n",
    "\n",
    "\n",
    "# Example usage:\n",
    "categorical_features = ['sex', 'cp', 'fbs', 'restecg', 'exang', 'slope', 'thal']\n",
    "categorical_dims = X_train[categorical_features ].nunique().values  # Number of unique categories for each categorical feature\n",
    "numerical_features = ['age', 'trestbps', 'chol', 'thalch', 'oldpeak' , 'ca']  # List of numerical features\n",
    "num_classes = 5  # Number of classes in the target variable\n",
    "\n",
    "# # Define the model with flexible hidden layers\n",
    "# model = HeartDiseaseModel(categorical_features, categorical_dims, numerical_features, num_classes, hidden_layers=[128, 64, 32])\n",
    "# print(model)\n",
    "\n",
    "# Example data\n",
    "# Replace these with your actual train and test sets\n",
    "X_train_cat = encode_categorical(X_train , categorical_features )  # Example categorical data\n",
    "X_train_num = torch.tensor(X_train[numerical_features].values , dtype=torch.float )  # Example numerical data\n",
    "y_train = torch.tensor( y_train , dtype=torch.long)  # Example target data\n",
    "\n",
    "# Define dataset and dataloader\n",
    "train_dataset = TensorDataset(X_train_cat, X_train_num, y_train)\n",
    "train_loader = DataLoader(train_dataset, batch_size=2, shuffle=True)\n",
    "\n",
    "# Define the model\n",
    "#\n",
    "model = HeartDiseaseModel(   categorical_features, categorical_dims, numerical_features, num_classes, hidden_layers=[128, 64])\n",
    "\n",
    "\n",
    "# Define loss function and optimizer\n",
    "criterion = nn.CrossEntropyLoss()\n",
    "optimizer = optim.Adam(model.parameters(), lr=0.001)\n",
    "\n",
    "# Training loop\n",
    "num_epochs = 100\n",
    "for epoch in range(num_epochs):\n",
    "    model.train()\n",
    "    running_loss = 0.0\n",
    "    for X_cat_batch, X_num_batch, y_batch in train_loader:\n",
    "        # Zero the parameter gradients\n",
    "        optimizer.zero_grad()\n",
    "        \n",
    "        # Forward pass\n",
    "        outputs = model(X_cat_batch, X_num_batch)\n",
    "        \n",
    "        # Compute loss\n",
    "        loss = criterion(outputs, y_batch)\n",
    "        \n",
    "        # Backward pass and optimize\n",
    "        loss.backward()\n",
    "        optimizer.step()\n",
    "        \n",
    "        # Accumulate loss\n",
    "        running_loss += loss.item()\n",
    "    \n",
    "    print(f'Epoch [{epoch+1}/{num_epochs}], Loss: {running_loss/len(train_loader):.4f}')\n",
    "\n",
    "print(\"Training complete.\")\n"
   ]
  },
  {
   "cell_type": "markdown",
   "id": "90b43aa6",
   "metadata": {},
   "source": [
    "## <span style=\"color:#27ae60\">5. Model Evaluation:</span>"
   ]
  },
  {
   "cell_type": "markdown",
   "id": "7b5ed41c",
   "metadata": {},
   "source": [
    "<div style=\"background-color:#f0f8ff; padding: 20px; border: 2px solid #b0c4de; border-radius: 10px;\">\n",
    "\n",
    "### &#128295; <span style=\"color:#4682b4;\">Model Evaluation</span>\n",
    "\n",
    "Model evaluation is a pivotal stage in assessing the performance and efficacy of a machine learning model. This multifaceted process involves scrutinizing the model's ability to generalize to unseen data and achieve desired predictive accuracy. Here's a breakdown of the steps involved:\n",
    "\n",
    "1. **Predictions**: Utilize the trained model to generate predictions on the test dataset.\n",
    "\n",
    "2. **Performance Metrics**: Calculate various performance metrics, including accuracy, precision, recall, F1-score, and ROC curve, to evaluate the model's effectiveness.\n",
    "\n",
    "3. **Confusion Matrix**: Construct a confusion matrix to visualize the model's classification results, delineating true positive, true negative, false positive, and false negative predictions.\n",
    "\n",
    "4. **Visualization**: Employ visualization tools like ROC curves or precision-recall curves to glean insights into the model's performance across different thresholds.\n",
    "\n",
    "Through meticulous evaluation, we gain invaluable insights into the model's efficacy and its suitability for the classification task at hand.\n",
    "\n",
    "</div>\n"
   ]
  },
  {
   "cell_type": "code",
   "execution_count": 18,
   "id": "aaf07c6c",
   "metadata": {},
   "outputs": [
    {
     "name": "stdout",
     "output_type": "stream",
     "text": [
      "Accuracy: 0.4565\n",
      "Classification Report:\n",
      "              precision    recall  f1-score   support\n",
      "\n",
      "           0       0.51      0.69      0.59        71\n",
      "           1       0.39      0.58      0.47        59\n",
      "           2       0.00      0.00      0.00        27\n",
      "           3       1.00      0.05      0.09        21\n",
      "           4       0.00      0.00      0.00         6\n",
      "\n",
      "   micro avg       0.46      0.46      0.46       184\n",
      "   macro avg       0.38      0.26      0.23       184\n",
      "weighted avg       0.44      0.46      0.39       184\n",
      "\n",
      "Confusion Matrix:\n",
      "[[49 22  0  0  0]\n",
      " [25 34  0  0  0]\n",
      " [12 15  0  0  0]\n",
      " [ 9 11  0  1  0]\n",
      " [ 1  5  0  0  0]]\n"
     ]
    },
    {
     "name": "stderr",
     "output_type": "stream",
     "text": [
      "C:\\Users\\rasou\\anaconda_2024\\envs\\pytorchenv\\lib\\site-packages\\sklearn\\metrics\\classification.py:1143: UndefinedMetricWarning: Precision and F-score are ill-defined and being set to 0.0 in labels with no predicted samples.\n",
      "  'precision', 'predicted', average, warn_for)\n"
     ]
    }
   ],
   "source": [
    "\n",
    "\n",
    "# Define a function to evaluate the model\n",
    "def evaluate_model(model, X_test_cat, X_test_num, y_test):\n",
    "    model.eval()\n",
    "    with torch.no_grad():\n",
    "        # Forward pass\n",
    "        outputs = model(X_test_cat, X_test_num)\n",
    "        \n",
    "        # Get the predicted class by taking the argmax\n",
    "        _, predicted = torch.max(outputs, 1)\n",
    "        \n",
    "        # Calculate accuracy\n",
    "        accuracy = accuracy_score(y_test, predicted)\n",
    "        \n",
    "        # Print classification report\n",
    "        class_report = classification_report(y_test, predicted)\n",
    "        \n",
    "        # Print confusion matrix\n",
    "        conf_matrix = confusion_matrix(y_test, predicted)\n",
    "        \n",
    "        return accuracy, class_report, conf_matrix\n",
    "\n",
    "# Prepare the test data\n",
    "X_test_cat = encode_categorical(X_test, categorical_features)  # Encode categorical features\n",
    "X_test_num = torch.tensor(X_test[numerical_features].values, dtype=torch.float)  # Convert numerical features to tensor\n",
    "y_test = torch.tensor(y_test.values, dtype=torch.long)  # Convert target to tensor\n",
    "\n",
    "# Evaluate the model\n",
    "accuracy, class_report, conf_matrix = evaluate_model(model, X_test_cat, X_test_num, y_test)\n",
    "\n",
    "print(f'Accuracy: {accuracy:.4f}')\n",
    "print('Classification Report:')\n",
    "print(class_report)\n",
    "print('Confusion Matrix:')\n",
    "print(conf_matrix)\n"
   ]
  },
  {
   "cell_type": "markdown",
   "id": "ea0bf8f8",
   "metadata": {},
   "source": [
    "<div style=\"background-color:#f0f8ff; padding: 20px; border: 2px solid #b0c4de; border-radius: 10px;\">\n",
    "\n",
    "### &#128187; <span style=\"color:#4682b4;\">When to Apply Embeddings for Categorical Variables</span>\n",
    "\n",
    "Embeddings are a powerful technique to represent categorical variables, especially in scenarios where traditional encoding methods like one-hot encoding fall short. Here's when to consider using embeddings:\n",
    "\n",
    "1. **High Cardinality**:\n",
    "   - **Description**: When a categorical variable has a large number of unique categories (high cardinality), one-hot encoding can lead to a high-dimensional feature space.\n",
    "   - **Issue**: This increases the complexity of the model and can lead to overfitting, inefficiencies, and longer training times.\n",
    "   - **Embedding Solution**: By using embeddings, you can represent each category as a dense, low-dimensional vector, reducing the dimensionality and capturing meaningful relationships between categories.\n",
    "\n",
    "2. **Sparse Data**:\n",
    "   - **Description**: In cases where your dataset is sparse (many categories but few data points per category), one-hot encoding can result in many zero entries.\n",
    "   - **Issue**: Sparse data can make the model less efficient and harder to train.\n",
    "   - **Embedding Solution**: Embeddings provide a compact representation, improving model efficiency and training performance.\n",
    "\n",
    "3. **Complex Relationships**:\n",
    "   - **Description**: When there are complex relationships or similarities between categories that are not easily captured by one-hot encoding.\n",
    "   - **Issue**: One-hot encoding treats all categories as equidistant and independent, missing potential similarities.\n",
    "   - **Embedding Solution**: Embeddings can capture these relationships by learning the similarities between categories during training, as similar categories will have similar vector representations.\n",
    "\n",
    "4. **Memory Constraints**:\n",
    "   - **Description**: If you are working with memory-constrained environments, high-dimensional one-hot encoded vectors can be problematic.\n",
    "   - **Issue**: Large one-hot encoded matrices can consume significant memory.\n",
    "   - **Embedding Solution**: Embeddings, being lower-dimensional, help in reducing memory usage.\n",
    "\n",
    "### &#128295; <span style=\"color:#4682b4;\">How to Apply Embeddings in PyTorch</span>\n",
    "\n",
    "Here's a brief code snippet to illustrate how to apply embeddings for categorical variables in PyTorch:\n",
    "\n",
    "```python\n",
    "import torch\n",
    "import torch.nn as nn\n",
    "\n",
    "# Assume we have a categorical feature with 10 unique categories\n",
    "num_categories = 10\n",
    "embedding_dim = 4  # The dimensionality of the embeddings\n",
    "\n",
    "# Define an embedding layer\n",
    "embedding_layer = nn.Embedding(num_categories, embedding_dim)\n",
    "\n",
    "# Example categorical data (indices of the categories)\n",
    "categorical_data = torch.LongTensor([1, 3, 5, 7])\n",
    "\n",
    "# Pass the data through the embedding layer\n",
    "embedded_data = embedding_layer(categorical_data)\n",
    "\n",
    "print(embedded_data)\n"
   ]
  },
  {
   "cell_type": "code",
   "execution_count": null,
   "id": "794db535",
   "metadata": {},
   "outputs": [],
   "source": []
  }
 ],
 "metadata": {
  "kernelspec": {
   "display_name": "Python 3 (ipykernel)",
   "language": "python",
   "name": "python3"
  },
  "language_info": {
   "codemirror_mode": {
    "name": "ipython",
    "version": 3
   },
   "file_extension": ".py",
   "mimetype": "text/x-python",
   "name": "python",
   "nbconvert_exporter": "python",
   "pygments_lexer": "ipython3",
   "version": "3.7.3"
  }
 },
 "nbformat": 4,
 "nbformat_minor": 5
}
