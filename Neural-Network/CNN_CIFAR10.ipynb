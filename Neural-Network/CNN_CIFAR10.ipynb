{
 "cells": [
  {
   "cell_type": "markdown",
   "id": "63410fe6",
   "metadata": {},
   "source": [
    "<div style=\"background-color: #00008B; padding: 20px;\">\n",
    "    <h1 style=\"font-size: 100px; color: #ffffff;\">Convolutional Neural Network (CIFAR-10)</h1>\n",
    "</div>"
   ]
  },
  {
   "cell_type": "markdown",
   "id": "a1fc673b",
   "metadata": {},
   "source": [
    "<div style=\"background-color:#f0f8ff; padding: 20px; border: 2px solid #4682b4; border-radius: 10px;\">\n",
    "\n",
    "### &#128279; <span style=\"color:#4682b4;\">CIFAR-10 Dataset</span>\n",
    "\n",
    "**CIFAR-10** is a popular dataset used for training machine learning and computer vision algorithms. It consists of 60,000 32x32 color images in 10 different classes, with 6,000 images per class. The dataset is divided into 50,000 training images and 10,000 test images. The classes include common objects such as airplanes, cars, birds, cats, deer, dogs, frogs, horses, ships, and trucks.\n",
    "\n",
    "**Differences between CIFAR-10 and MNIST**:\n",
    "- **Image Type**: CIFAR-10 contains color images, whereas MNIST contains grayscale images of handwritten digits.\n",
    "- **Image Size**: CIFAR-10 images are 32x32 pixels, while MNIST images are 28x28 pixels.\n",
    "- **Number of Classes**: CIFAR-10 has 10 classes of objects, compared to the 10 digit classes in MNIST.\n",
    "\n",
    "We are going to develop a **Convolutional Neural Network (CNN) classifier** to predict the classes of images in the CIFAR-10 dataset. This will involve building and training a CNN model that can accurately classify the images into their respective categories.\n",
    "\n",
    "For more information, please visit the [CIFAR-10 dataset page](https://www.cs.toronto.edu/~kriz/cifar.html).\n",
    "\n",
    "</div>\n"
   ]
  },
  {
   "cell_type": "code",
   "execution_count": 1,
   "id": "3ff49223",
   "metadata": {},
   "outputs": [],
   "source": [
    "import pandas as pd\n",
    "import numpy as np\n",
    "import matplotlib.pyplot as plt"
   ]
  },
  {
   "cell_type": "code",
   "execution_count": 2,
   "id": "1bad5bc1",
   "metadata": {},
   "outputs": [],
   "source": [
    "import torch\n",
    "import torchvision\n",
    "import torch.nn.functional as F\n",
    "import torchvision.transforms as transforms"
   ]
  },
  {
   "cell_type": "code",
   "execution_count": 3,
   "id": "f95fdfb0",
   "metadata": {},
   "outputs": [
    {
     "name": "stdout",
     "output_type": "stream",
     "text": [
      "Files already downloaded and verified\n",
      "Files already downloaded and verified\n"
     ]
    }
   ],
   "source": [
    "transform = transforms.Compose(\n",
    "    [transforms.ToTensor(),\n",
    "     transforms.Normalize((0.5, 0.5, 0.5), (0.5, 0.5, 0.5))])\n",
    "\n",
    "batch_size = 4\n",
    "\n",
    "trainset = torchvision.datasets.CIFAR10(root='./data', train=True,\n",
    "                                        download=True, transform=transform)\n",
    "train_loader = torch.utils.data.DataLoader(trainset, batch_size=batch_size,\n",
    "                                          shuffle=True, num_workers=2)\n",
    "\n",
    "testset = torchvision.datasets.CIFAR10(root='./data', train=False,\n",
    "                                       download=True, transform=transform)\n",
    "test_loader = torch.utils.data.DataLoader(testset, batch_size=batch_size,\n",
    "                                         shuffle=False, num_workers=2)\n",
    "\n",
    "classes = ('plane', 'car', 'bird', 'cat',\n",
    "           'deer', 'dog', 'frog', 'horse', 'ship', 'truck')"
   ]
  },
  {
   "cell_type": "code",
   "execution_count": 4,
   "id": "d8e455bd",
   "metadata": {},
   "outputs": [],
   "source": [
    "import torch\n",
    "import torch.nn as nn\n",
    "import torch.optim as optim\n",
    "from torch.utils.data import DataLoader, TensorDataset\n",
    "\n",
    "class GeneralCNN(nn.Module):\n",
    "    def __init__(self, input_channels, num_classes, conv1_out_channels, conv2_out_channels, fc1_out_features, fc2_out_features, dropout_prob=0.5):\n",
    "        super(GeneralCNN, self).__init__()\n",
    "        \n",
    "        self.conv1 = nn.Conv2d(input_channels, conv1_out_channels, kernel_size=3, padding=1)\n",
    "        self.pool = nn.MaxPool2d(kernel_size=2, stride=2, padding=0)\n",
    "        self.conv2 = nn.Conv2d(conv1_out_channels, conv2_out_channels, kernel_size=3, padding=1)\n",
    "        \n",
    "        self.fc1 = nn.Linear(conv2_out_channels * 8 * 8, fc1_out_features)\n",
    "        self.bn1 = nn.BatchNorm1d(fc1_out_features)\n",
    "        self.dropout1 = nn.Dropout(p=dropout_prob)\n",
    "        \n",
    "        self.fc2 = nn.Linear(fc1_out_features, fc2_out_features)\n",
    "        self.bn2 = nn.BatchNorm1d(fc2_out_features)\n",
    "        self.dropout2 = nn.Dropout(p=dropout_prob)\n",
    "        \n",
    "        self.output_layer = nn.Linear(fc2_out_features, num_classes)\n",
    "        \n",
    "    def forward(self, x):\n",
    "        x = self.pool(F.relu(self.conv1(x)))\n",
    "        x = self.pool(F.relu(self.conv2(x)))\n",
    "        x = x.view(-1, self.num_flat_features(x))\n",
    "        \n",
    "        x = F.relu(self.fc1(x))\n",
    "        x = self.bn1(x)\n",
    "        x = self.dropout1(x)\n",
    "        \n",
    "        x = F.relu(self.fc2(x))\n",
    "        x = self.bn2(x)\n",
    "        x = self.dropout2(x)\n",
    "        \n",
    "        x = self.output_layer(x)\n",
    "        return x\n",
    "    \n",
    "    def num_flat_features(self, x):\n",
    "        size = x.size()[1:]  # all dimensions except the batch dimension\n",
    "        num_features = 1\n",
    "        for s in size:\n",
    "            num_features *= s\n",
    "        return num_features\n",
    "\n"
   ]
  },
  {
   "cell_type": "code",
   "execution_count": 5,
   "id": "89c28919",
   "metadata": {},
   "outputs": [],
   "source": [
    "# Function to train the model\n",
    "def train_model(model, train_loader, criterion, optimizer, num_epochs=10):\n",
    "    model.train()\n",
    "    for epoch in range(num_epochs):\n",
    "        running_loss = 0.0\n",
    "        for inputs, labels in train_loader:\n",
    "            optimizer.zero_grad()\n",
    "            outputs = model(inputs)\n",
    "            loss = criterion(outputs, labels)\n",
    "            loss.backward()\n",
    "            optimizer.step()\n",
    "            running_loss += loss.item() * inputs.size(0)\n",
    "        epoch_loss = running_loss / len(train_loader.dataset)\n",
    "        print(f'Epoch {epoch+1}/{num_epochs}, Loss: {epoch_loss:.4f}')\n",
    "    print('Training complete.')\n",
    "\n"
   ]
  },
  {
   "cell_type": "code",
   "execution_count": 6,
   "id": "99b413b0",
   "metadata": {},
   "outputs": [
    {
     "name": "stdout",
     "output_type": "stream",
     "text": [
      "Epoch 1/10, Loss: 2.0236\n",
      "Epoch 2/10, Loss: 1.8506\n",
      "Epoch 3/10, Loss: 1.8109\n",
      "Epoch 4/10, Loss: 1.7360\n",
      "Epoch 5/10, Loss: 1.6968\n",
      "Epoch 6/10, Loss: 1.6855\n",
      "Epoch 7/10, Loss: 1.6359\n",
      "Epoch 8/10, Loss: 1.5707\n",
      "Epoch 9/10, Loss: 1.5445\n",
      "Epoch 10/10, Loss: 1.5186\n",
      "Training complete.\n",
      "Accuracy on test data: 57.80%\n"
     ]
    }
   ],
   "source": [
    "# Function to evaluate the model\n",
    "def evaluate_model(model, test_loader):\n",
    "    model.eval()\n",
    "    correct = 0\n",
    "    total = 0\n",
    "    with torch.no_grad():\n",
    "        for inputs, labels in test_loader:\n",
    "            outputs = model(inputs)\n",
    "            _, predicted = torch.max(outputs.data, 1)\n",
    "            total += labels.size(0)\n",
    "            correct += (predicted == labels).sum().item()\n",
    "    accuracy = 100 * correct / total\n",
    "    print(f'Accuracy on test data: {accuracy:.2f}%')\n",
    "\n",
    "# Example usage with CIFAR-10 dataset\n",
    "# Assuming train_loader and test_loader are defined\n",
    "\n",
    "input_channels = 3  # CIFAR-10 has 3 color channels\n",
    "num_classes = 10  # CIFAR-10 has 10 classes\n",
    "conv1_out_channels = 32\n",
    "conv2_out_channels = 64\n",
    "fc1_out_features = 512\n",
    "fc2_out_features = 256\n",
    "\n",
    "model = GeneralCNN(input_channels, num_classes, conv1_out_channels, conv2_out_channels, fc1_out_features, fc2_out_features)\n",
    "\n",
    "criterion = nn.CrossEntropyLoss()\n",
    "optimizer = optim.Adam(model.parameters(), lr=0.001)\n",
    "\n",
    "train_model(model, train_loader, criterion, optimizer, num_epochs=10)\n",
    "evaluate_model(model, test_loader)\n"
   ]
  },
  {
   "cell_type": "code",
   "execution_count": 42,
   "id": "25bf5153",
   "metadata": {},
   "outputs": [
    {
     "name": "stderr",
     "output_type": "stream",
     "text": [
      "Clipping input data to the valid range for imshow with RGB data ([0..1] for floats or [0..255] for integers).\n",
      "Clipping input data to the valid range for imshow with RGB data ([0..1] for floats or [0..255] for integers).\n",
      "Clipping input data to the valid range for imshow with RGB data ([0..1] for floats or [0..255] for integers).\n",
      "Clipping input data to the valid range for imshow with RGB data ([0..1] for floats or [0..255] for integers).\n",
      "Clipping input data to the valid range for imshow with RGB data ([0..1] for floats or [0..255] for integers).\n",
      "Clipping input data to the valid range for imshow with RGB data ([0..1] for floats or [0..255] for integers).\n"
     ]
    },
    {
     "data": {
      "image/png": "[encoded data removed]",
      "text/plain": [
       "<Figure size 1500x1000 with 6 Axes>"
      ]
     },
     "metadata": {},
     "output_type": "display_data"
    }
   ],
   "source": [
    "find_misclassified = torch.utils.data.DataLoader(testset, batch_size= 10000 ,\n",
    "                                         shuffle=False, num_workers=2)\n",
    "\n",
    "for images, labels in find_misclassified:\n",
    "    images = images.view(-1, 3, 32, 32)\n",
    "    outputs = model(images)\n",
    "    _, predicted = torch.max(outputs, 1)\n",
    "    break\n",
    "\n",
    "    if predicted.item() != label.item():\n",
    "        misclassified_examples.append((image.squeeze(), label.item(), predicted.item()))\n",
    "        if len(misclassified_examples) == 3:\n",
    "            break\n",
    "            \n",
    "indices = [i for i, (x, y) in enumerate(zip(  predicted  , labels)) if x != y][:6]\n",
    "\n",
    "true_labels =[ labels[x ] for x in indices] # true labels\n",
    "predicted_labels = [ predicted[x ] for x in indices]  # predicted labels\n",
    "test_data_images = [np.transpose(images[x] , (1,2,0)) for x in indices ]  #  test data images\n",
    "\n",
    "fig, axes = plt.subplots(2, 3, figsize=(15, 10))\n",
    "\n",
    "# Plot each misclassified row with true and predicted labels\n",
    "for i, ax in enumerate(axes.flatten()):\n",
    "    ax.imshow(test_data_images[i], cmap='plasma')  # Assuming grayscale images\n",
    "    ax.set_title(f'True: {true_labels[i]}, Predicted: {predicted_labels[i]}')\n",
    "    ax.axis('off')\n",
    "\n",
    "plt.tight_layout()\n",
    "plt.show()"
   ]
  }
 ],
 "metadata": {
  "kernelspec": {
   "display_name": "Python 3 (ipykernel)",
   "language": "python",
   "name": "python3"
  },
  "language_info": {
   "codemirror_mode": {
    "name": "ipython",
    "version": 3
   },
   "file_extension": ".py",
   "mimetype": "text/x-python",
   "name": "python",
   "nbconvert_exporter": "python",
   "pygments_lexer": "ipython3",
   "version": "3.7.3"
  }
 },
 "nbformat": 4,
 "nbformat_minor": 5
}
