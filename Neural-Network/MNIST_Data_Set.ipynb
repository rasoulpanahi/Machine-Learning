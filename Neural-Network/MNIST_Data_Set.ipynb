{
 "cells": [
  {
   "cell_type": "markdown",
   "id": "0616e2c4",
   "metadata": {},
   "source": [
    "# MNIST files are exctracted from here :\n",
    "\n",
    "https://www.kaggle.com/datasets/oddrationale/mnist-in-csv?select=mnist_train.csv"
   ]
  },
  {
   "cell_type": "code",
   "execution_count": 1,
   "id": "ede7b728",
   "metadata": {},
   "outputs": [],
   "source": [
    "import numpy as np\n",
    "import pandas as pd\n",
    "import matplotlib.pyplot as plt "
   ]
  },
  {
   "cell_type": "code",
   "execution_count": 4,
   "id": "605d52a9",
   "metadata": {},
   "outputs": [],
   "source": [
    "import torch\n",
    "from torchvision import datasets , transforms"
   ]
  },
  {
   "cell_type": "code",
   "execution_count": 40,
   "id": "6d5f548a",
   "metadata": {},
   "outputs": [],
   "source": [
    "train_data = pd.read_csv(r'C:\\D\\Python\\Python-Projects\\PYTORCH_NOTEBOOKS\\PYTORCH_NOTEBOOKS\\mnist_train_csv\\mnist_train.csv')\n",
    "test_data =  pd.read_csv(r'C:\\D\\Python\\Python-Projects\\PYTORCH_NOTEBOOKS\\PYTORCH_NOTEBOOKS\\mnist_test_csv\\mnist_test.csv')"
   ]
  },
  {
   "cell_type": "code",
   "execution_count": 42,
   "id": "e1fae9bd",
   "metadata": {},
   "outputs": [
    {
     "name": "stdout",
     "output_type": "stream",
     "text": [
      "(60000, 785)\n",
      "(10000, 785)\n"
     ]
    }
   ],
   "source": [
    "print(train_data.shape)\n",
    "print(test_data.shape)"
   ]
  },
  {
   "cell_type": "code",
   "execution_count": 47,
   "id": "3dd6cc0c",
   "metadata": {},
   "outputs": [
    {
     "data": {
      "text/html": [
       "<div>\n",
       "<style scoped>\n",
       "    .dataframe tbody tr th:only-of-type {\n",
       "        vertical-align: middle;\n",
       "    }\n",
       "\n",
       "    .dataframe tbody tr th {\n",
       "        vertical-align: top;\n",
       "    }\n",
       "\n",
       "    .dataframe thead th {\n",
       "        text-align: right;\n",
       "    }\n",
       "</style>\n",
       "<table border=\"1\" class=\"dataframe\">\n",
       "  <thead>\n",
       "    <tr style=\"text-align: right;\">\n",
       "      <th></th>\n",
       "      <th>1</th>\n",
       "      <th>7</th>\n",
       "      <th>3</th>\n",
       "      <th>2</th>\n",
       "      <th>9</th>\n",
       "      <th>0</th>\n",
       "      <th>6</th>\n",
       "      <th>8</th>\n",
       "      <th>4</th>\n",
       "      <th>5</th>\n",
       "    </tr>\n",
       "  </thead>\n",
       "  <tbody>\n",
       "    <tr>\n",
       "      <th>size</th>\n",
       "      <td>6742</td>\n",
       "      <td>6265</td>\n",
       "      <td>6131</td>\n",
       "      <td>5958</td>\n",
       "      <td>5949</td>\n",
       "      <td>5923</td>\n",
       "      <td>5918</td>\n",
       "      <td>5851</td>\n",
       "      <td>5842</td>\n",
       "      <td>5421</td>\n",
       "    </tr>\n",
       "  </tbody>\n",
       "</table>\n",
       "</div>"
      ],
      "text/plain": [
       "         1     7     3     2     9     0     6     8     4     5\n",
       "size  6742  6265  6131  5958  5949  5923  5918  5851  5842  5421"
      ]
     },
     "execution_count": 47,
     "metadata": {},
     "output_type": "execute_result"
    }
   ],
   "source": [
    "# The first column of train_data is the label: 0, 1, .. ,9\n",
    "train_data['label'].value_counts().to_frame().rename(columns = {'label'  : 'size'}).T"
   ]
  },
  {
   "cell_type": "code",
   "execution_count": 48,
   "id": "ef8d33e1",
   "metadata": {},
   "outputs": [
    {
     "data": {
      "image/png": "[encoded data removed]",
      "text/plain": [
       "<Figure size 640x480 with 1 Axes>"
      ]
     },
     "metadata": {},
     "output_type": "display_data"
    }
   ],
   "source": [
    "plt.imshow( train_data.iloc[1][1:].values.reshape(28 , -1) )\n",
    "plt.show()"
   ]
  },
  {
   "cell_type": "markdown",
   "id": "e2a041b0",
   "metadata": {},
   "source": [
    "# PCA "
   ]
  },
  {
   "cell_type": "code",
   "execution_count": 11,
   "id": "3a2c4163",
   "metadata": {},
   "outputs": [],
   "source": [
    "transform = transforms.Compose([\n",
    "    transforms.ToTensor(),\n",
    "    transforms.Normalize((0.5,), (0.5,))  # Normalize the images to the range [-1, 1]\n",
    "])\n",
    "\n",
    "# Add a link and explain that this method is failed. Some solutions in stackoverflow?\n",
    "train_data = datasets.MNIST( root = './' ,\\\n",
    "                            train = False, download= True )\n"
   ]
  }
 ],
 "metadata": {
  "kernelspec": {
   "display_name": "Python 3 (ipykernel)",
   "language": "python",
   "name": "python3"
  },
  "language_info": {
   "codemirror_mode": {
    "name": "ipython",
    "version": 3
   },
   "file_extension": ".py",
   "mimetype": "text/x-python",
   "name": "python",
   "nbconvert_exporter": "python",
   "pygments_lexer": "ipython3",
   "version": "3.7.3"
  }
 },
 "nbformat": 4,
 "nbformat_minor": 5
}
